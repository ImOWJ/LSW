{
  "nbformat": 4,
  "nbformat_minor": 0,
  "metadata": {
    "colab": {
      "provenance": [],
      "toc_visible": true,
      "authorship_tag": "ABX9TyPy6EajNF+QsT1NsghbR2eW",
      "include_colab_link": true
    },
    "kernelspec": {
      "name": "python3",
      "display_name": "Python 3"
    },
    "language_info": {
      "name": "python"
    }
  },
  "cells": [
    {
      "cell_type": "markdown",
      "metadata": {
        "id": "view-in-github",
        "colab_type": "text"
      },
      "source": [
        "<a href=\"https://colab.research.google.com/github/K-Bbang/AIFFEL_Online_Quest/blob/main/Main_Quest/Python_Mainquest.ipynb\" target=\"_parent\"><img src=\"https://colab.research.google.com/assets/colab-badge.svg\" alt=\"Open In Colab\"/></a>"
      ]
    },
    {
      "cell_type": "markdown",
      "source": [
        "# 메인 퀘스트 1번"
      ],
      "metadata": {
        "id": "5RH65FYK32SW"
      }
    },
    {
      "cell_type": "markdown",
      "source": [
        "Q1. Account 클래스 : 은행에 가서 계좌를 개설하면 은행이름, 예금주, 계좌번호, 잔액이 설정됩니다.\n",
        "\n",
        "Account 클래스를 생성한 후 생성자\n",
        "(hint: 매직매서드..!!)를 구현해보세요.\n",
        "\n",
        "생성자에서는 예금주와 초기 잔액만 입력 받습니다.\n",
        "\n",
        "은행이름은 SC은행으로 계좌번호는 3자리-2자리-6자리 형태로 랜덤하게 생성됩니다.\n",
        "\n",
        "(은행이름: SC은행, 계좌번호: 111-11-111111)"
      ],
      "metadata": {
        "id": "6fuQkiTS36MN"
      }
    },
    {
      "cell_type": "code",
      "source": [
        "import random as r\n",
        "\n",
        "class Account:\n",
        "  def __init__(self, holder, balance):\n",
        "    self.bank = 'SC은행'\n",
        "    self.holder = holder\n",
        "\n",
        "    n1 = r.randint(0, 999)\n",
        "    n2 = r.randint(0, 99)\n",
        "    n3 = r.randint(0, 999999)\n",
        "    self.account_n = str(n1) + '-' + str(n2) + '-' + str(n3)\n",
        "\n",
        "    self.balance = balance\n",
        "\n",
        "# 객체 생성 및 출력\n",
        "a = Account('이상원', 100)\n",
        "print('은행:', a.bank)\n",
        "print('예금주:', a.holder)\n",
        "print('계좌번호:', a.account_n)\n",
        "print('잔액:', a.balance)"
      ],
      "metadata": {
        "colab": {
          "base_uri": "https://localhost:8080/"
        },
        "id": "EQVpXqq-35CG",
        "outputId": "95df1e1d-3853-4cbd-c379-b0bb9909fa28"
      },
      "execution_count": 61,
      "outputs": [
        {
          "output_type": "stream",
          "name": "stdout",
          "text": [
            "은행: SC은행\n",
            "예금주: 이상원\n",
            "계좌번호: 138-5-401586\n",
            "잔액: 100\n"
          ]
        }
      ]
    },
    {
      "cell_type": "markdown",
      "source": [
        "Q2. 클래스 변수: 클래스 변수를 사용해서 Account 클래스로부터 생성된 계좌 객체의 개수를 저장하세요."
      ],
      "metadata": {
        "id": "-VD4fSPD-oEe"
      }
    },
    {
      "cell_type": "code",
      "source": [
        "class Account:\n",
        "  # 계좌 객체를 카운트하기 위한 클래스 속성\n",
        "  count = 0\n",
        "\n",
        "  def __init__(self, holder, balance):\n",
        "    self.bank = 'SC은행'\n",
        "    self.holder = holder\n",
        "\n",
        "    n1 = r.randint(0, 999)\n",
        "    n2 = r.randint(0, 99)\n",
        "    n3 = r.randint(0, 999999)\n",
        "    self.account_n = str(n1) + '-' + str(n2) + '-' + str(n3)\n",
        "\n",
        "    self.balance = balance\n",
        "\n",
        "    # 계좌 객체 카운트 클래스에 접근하기 위한 속성값 생성\n",
        "    Account.count += 1\n",
        "\n",
        "# 객체 생성 및 출력\n",
        "a = Account('이상원', 100)\n",
        "b = Account('이상우', 300)\n",
        "print(Account.count, '개')"
      ],
      "metadata": {
        "colab": {
          "base_uri": "https://localhost:8080/"
        },
        "id": "TXIHbvDn-qyD",
        "outputId": "b9d54016-5796-4557-e3ea-ea646c7b8e05"
      },
      "execution_count": 63,
      "outputs": [
        {
          "output_type": "stream",
          "name": "stdout",
          "text": [
            "2 개\n"
          ]
        }
      ]
    },
    {
      "cell_type": "markdown",
      "source": [
        "Q3. 클래스 변수 출력 : Account 클래스로부터 생성된 계좌의 개수를 출력하는 get_account_num() 메서드를 추가하세요."
      ],
      "metadata": {
        "id": "RpTGw9vgA9r1"
      }
    },
    {
      "cell_type": "code",
      "source": [
        "class Account:\n",
        "  count = 0\n",
        "\n",
        "  def __init__(self, holder, balance):\n",
        "    self.bank = 'SC은행'\n",
        "    self.holder = holder\n",
        "\n",
        "    n1 = r.randint(0, 999)\n",
        "    n2 = r.randint(0, 99)\n",
        "    n3 = r.randint(0, 999999)\n",
        "    self.account_n = str(n1) + '-' + str(n2) + '-' + str(n3)\n",
        "\n",
        "    self.balance = balance\n",
        "\n",
        "    Account.count += 1\n",
        "\n",
        "  #  get_account_num() 메서드를 추가\n",
        "  def get_account_num(self):\n",
        "    print(Account.count, '개')\n",
        "\n",
        "# 객체 생성 및 출력\n",
        "a = Account('이상원', 100)\n",
        "b = Account('이상우', 300)\n",
        "c = Account('이나라', 400)\n",
        "a.get_account_num()"
      ],
      "metadata": {
        "colab": {
          "base_uri": "https://localhost:8080/"
        },
        "id": "oVtteQ-3BBwO",
        "outputId": "5716bc0f-4105-4b29-9708-fc5cf394bdfb"
      },
      "execution_count": 66,
      "outputs": [
        {
          "output_type": "stream",
          "name": "stdout",
          "text": [
            "3 개\n"
          ]
        }
      ]
    },
    {
      "cell_type": "markdown",
      "source": [
        "Q4. 입금 메서드 : Account 클래스에 입금을 위한 deposit 메서드를 추가하세요. 입금은 최소 1원 이상만 가능합니"
      ],
      "metadata": {
        "id": "1htxIB5wHi5_"
      }
    },
    {
      "cell_type": "code",
      "source": [
        "class Account:\n",
        "  count = 0\n",
        "\n",
        "  def __init__(self, holder, balance):\n",
        "    self.bank = 'SC은행'\n",
        "    self.holder = holder\n",
        "\n",
        "    n1 = r.randint(0, 999)\n",
        "    n2 = r.randint(0, 99)\n",
        "    n3 = r.randint(0, 999999)\n",
        "    self.account_n = str(n1) + '-' + str(n2) + '-' + str(n3)\n",
        "\n",
        "    self.balance = balance\n",
        "\n",
        "    Account.count += 1\n",
        "\n",
        "  def get_account_num(self):\n",
        "    print(Account.count)\n",
        "\n",
        "  # 입금 메소드 추가\n",
        "  def deposit(self, deposit):\n",
        "    print('입금액 :', deposit)\n",
        "    self.balance += deposit\n",
        "\n",
        "\n",
        "a = Account('이상원', 200) # 객체생성, 잔액 200\n",
        "a.deposit(300) # 입금 메소드에 입금값 300 부여\n",
        "print('은행: ', a.bank)\n",
        "print('예금주: ', a.holder)\n",
        "print('계좌번호: ', a.account_n)\n",
        "print('잔액: ', a.balance) # 잔액 200 + 입금액 300 = 500"
      ],
      "metadata": {
        "colab": {
          "base_uri": "https://localhost:8080/"
        },
        "id": "aOC0qfZpHlRX",
        "outputId": "4a8b67d4-6d2b-4ce4-f9ab-1819db44350d"
      },
      "execution_count": 68,
      "outputs": [
        {
          "output_type": "stream",
          "name": "stdout",
          "text": [
            "입금액 : 300\n",
            "은행:  SC은행\n",
            "예금주:  이상원\n",
            "계좌번호:  116-67-260865\n",
            "잔액:  500\n"
          ]
        }
      ]
    },
    {
      "cell_type": "markdown",
      "source": [
        "Q5. 출금 메서드 : Account 클래스에 출금을 위한 withdraw 메서드를 추가하세요. 출금은 계좌의 잔고 이상으로 출금할 수는 없습니다."
      ],
      "metadata": {
        "id": "H4RefZYnOKsJ"
      }
    },
    {
      "cell_type": "code",
      "source": [
        "class Account:\n",
        "  count = 0\n",
        "\n",
        "  def __init__(self, holder, balance):\n",
        "    self.bank = 'SC은행'\n",
        "    self.holder = holder\n",
        "\n",
        "    n1 = r.randint(0, 999)\n",
        "    n2 = r.randint(0, 99)\n",
        "    n3 = r.randint(0, 999999)\n",
        "    self.account_n = str(n1) + '-' + str(n2) + '-' + str(n3)\n",
        "\n",
        "    self.balance = balance\n",
        "\n",
        "    Account.count += 1\n",
        "\n",
        "  def get_account_num(self):\n",
        "    print(Account.count)\n",
        "\n",
        "  def deposit(self, deposit):\n",
        "    print('입금액 :', deposit)\n",
        "    self.balance += deposit\n",
        "\n",
        "  # 출금 메소드\n",
        "  def withdraw(self, withdraw):\n",
        "    print('출금액', withdraw)\n",
        "    self.balance -= withdraw\n",
        "\n",
        "a = Account('이상원', 200) # 잔액\n",
        "a.deposit(300) # 입금액\n",
        "a.withdraw(500) # 출금액\n",
        "print('은행: ', a.bank)\n",
        "print('예금주: ', a.holder)\n",
        "print('계좌번호: ', a.account_n)\n",
        "print('잔액: ', a.balance) # (잔액 200 + 입금액 300) - 출금액 500 = 0"
      ],
      "metadata": {
        "colab": {
          "base_uri": "https://localhost:8080/"
        },
        "id": "xiG5LI9pONeQ",
        "outputId": "e92328fb-4008-49e6-853e-4f5e52bcd2f8"
      },
      "execution_count": 70,
      "outputs": [
        {
          "output_type": "stream",
          "name": "stdout",
          "text": [
            "입금액 : 300\n",
            "출금액 500\n",
            "은행:  SC은행\n",
            "예금주:  이상원\n",
            "계좌번호:  495-19-822229\n",
            "잔액:  0\n"
          ]
        }
      ]
    },
    {
      "cell_type": "markdown",
      "source": [
        "Q6. 정보 출력 메서드 : Account 인스턴스에 저장된 정보를 출력하는 display_info() 메서드를 추가하세요.\n",
        "\n",
        "잔고는 세자리마다 쉼표를 출력하세요.\n",
        "\n",
        "(은행이름: SC은행, 예금주: 파이썬, 계좌번호: 111-11-111111, 잔고: 10,000원\n",
        "\n"
      ],
      "metadata": {
        "id": "SioPGv4hPMe9"
      }
    },
    {
      "cell_type": "code",
      "source": [
        "class Account:\n",
        "  count = 0\n",
        "\n",
        "  def __init__(self, holder, balance):\n",
        "    self.bank = 'SC은행'\n",
        "    self.holder = holder\n",
        "\n",
        "    n1 = r.randint(0, 999)\n",
        "    n2 = r.randint(0, 99)\n",
        "    n3 = r.randint(0, 999999)\n",
        "    self.account_n = str(n1) + '-' + str(n2) + '-' + str(n3)\n",
        "\n",
        "    self.balance = balance\n",
        "\n",
        "    Account.count += 1\n",
        "\n",
        "  def get_account_num(self):\n",
        "    print(Account.count)\n",
        "\n",
        "  def deposit(self, deposit):\n",
        "    print('입금액 :', deposit)\n",
        "    self.balance += deposit\n",
        "\n",
        "  def withdraw(self, withdraw):\n",
        "    print('출금액', withdraw)\n",
        "    self.balance -= withdraw\n",
        "\n",
        "  # 정보출력 메소드\n",
        "  def display_info(self):\n",
        "    print('은행:', self.bank)\n",
        "    print('예금주:', self.holder)\n",
        "    print('계좌번호:',self.account_n)\n",
        "    print('잔액:', self.balance, '원')\n",
        "\n",
        "a = Account('이상원', 13000) # 잔액 13000\n",
        "a.deposit(2000) # 입금액 2000\n",
        "a.withdraw(5000) # 출금액 5000\n",
        "a.display_info() # 잔액 15000-5000 = 10000"
      ],
      "metadata": {
        "colab": {
          "base_uri": "https://localhost:8080/"
        },
        "id": "I_EoyaGnPOlK",
        "outputId": "2c9bfda7-807c-4e82-92f3-483f67e2322e"
      },
      "execution_count": 89,
      "outputs": [
        {
          "output_type": "stream",
          "name": "stdout",
          "text": [
            "입금액 : 2000\n",
            "출금액 5000\n",
            "은행: SC은행\n",
            "예금주: 이상원\n",
            "계좌번호: 512-10-724356\n",
            "잔액: 10000 원\n"
          ]
        }
      ]
    },
    {
      "cell_type": "markdown",
      "source": [
        "Q7. 이자 지급하기 입금 횟수가 5회가 될 때 잔고를 기준으로 1%의 이자가 잔고에 추가되도록 코드를 변경해보세요."
      ],
      "metadata": {
        "id": "Efg4az-wSF6Y"
      }
    },
    {
      "cell_type": "code",
      "source": [
        "class Account:\n",
        "  count = 0\n",
        "\n",
        "  def __init__(self, holder, balance):\n",
        "    # 이자율 상승 인스턴스 속성 추가\n",
        "    self.deposit_count = 0\n",
        "\n",
        "    self.bank = 'SC은행'\n",
        "    self.holder = holder\n",
        "\n",
        "    n1 = r.randint(0, 999)\n",
        "    n2 = r.randint(0, 99)\n",
        "    n3 = r.randint(0, 999999)\n",
        "    self.account_n = str(n1) + '-' + str(n2) + '-' + str(n3)\n",
        "\n",
        "    self.balance = balance\n",
        "\n",
        "    Account.count += 1\n",
        "\n",
        "  def get_account_num(self):\n",
        "    print(Account.count)\n",
        "\n",
        "  def deposit(self, deposit):\n",
        "    print('입금액 :', deposit)\n",
        "    self.balance += deposit\n",
        "\n",
        "    # 이자율 상승 인스턴스 속성 조건값\n",
        "    self.deposit_count += 1\n",
        "    if self.deposit_count % 5 == 0:\n",
        "      self.balance = self.balance + (self.balance*0.01)\n",
        "\n",
        "  def withdraw(self, withdraw):\n",
        "    print('출금액', withdraw)\n",
        "    self.balance -= withdraw\n",
        "\n",
        "  def display_info(self):\n",
        "    print('은행:', self.bank)\n",
        "    print('예금주:', self.holder)\n",
        "    print('계좌번호:',self.account_n)\n",
        "    print('잔액:', self.balance, '원')\n",
        "\n",
        "a = Account('이상원', 0)\n",
        "a.deposit(100)\n",
        "a.deposit(100)\n",
        "a.deposit(100)\n",
        "a.deposit(100)\n",
        "a.deposit(100)\n",
        "a.display_info() # 100원씩 5회, 총 500원 입금에 5원(1%) 추가= 505원"
      ],
      "metadata": {
        "colab": {
          "base_uri": "https://localhost:8080/"
        },
        "id": "aDiCImNDSJCU",
        "outputId": "95df4b63-15e7-42c0-b8ac-478a8de8e7d2"
      },
      "execution_count": 90,
      "outputs": [
        {
          "output_type": "stream",
          "name": "stdout",
          "text": [
            "입금액 : 100\n",
            "입금액 : 100\n",
            "입금액 : 100\n",
            "입금액 : 100\n",
            "입금액 : 100\n",
            "은행: SC은행\n",
            "예금주: 이상원\n",
            "계좌번호: 285-99-211652\n",
            "잔액: 505.0 원\n"
          ]
        }
      ]
    },
    {
      "cell_type": "markdown",
      "source": [
        "Q8. 여러 객체 생성 Account 클래스로부터 3개 이상 인스턴스를 생성하고 생성된 인스턴스를 리스트에 저장해보세요."
      ],
      "metadata": {
        "id": "m_H7gSYvXD95"
      }
    },
    {
      "cell_type": "code",
      "source": [
        "class Account:\n",
        "  count = 0\n",
        "  # 계좌 현황을 담을 빈 리스트 생성\n",
        "  order_account = []\n",
        "\n",
        "  def __init__(self, holder, balance):\n",
        "    self.deposit_count = 0\n",
        "\n",
        "    self.bank = 'SC은행'\n",
        "    self.holder = holder\n",
        "\n",
        "    n1 = r.randint(0, 999)\n",
        "    n2 = r.randint(0, 99)\n",
        "    n3 = r.randint(0, 999999)\n",
        "    self.account_n = str(n1) + '-' + str(n2) + '-' + str(n3)\n",
        "\n",
        "    self.balance = balance\n",
        "\n",
        "    Account.count += 1\n",
        "\n",
        "  # 클래스 속성에 담을 인스턴스 속성 값\n",
        "  def account_list(self):\n",
        "    Account.order_account.append(self.holder)\n",
        "    print('계좌현황: ', Account.order_account)\n",
        "\n",
        "\n",
        "  def get_account_num(self):\n",
        "    print(Account.count)\n",
        "\n",
        "  def deposit(self, deposit):\n",
        "    print('입금액 :', deposit)\n",
        "    self.balance += deposit\n",
        "    self.deposit_count += 1\n",
        "    if self.deposit_count % 5 == 0:\n",
        "      self.balance = self.balance + (self.balance*0.01)\n",
        "\n",
        "  def withdraw(self, withdraw):\n",
        "    print('출금액', withdraw)\n",
        "    self.balance -= withdraw\n",
        "\n",
        "  def display_info(self):\n",
        "    print('은행:', self.bank)\n",
        "    print('예금주:', self.holder)\n",
        "    print('계좌번호:',self.account_n)\n",
        "    print('잔액:', self.balance, '원')\n",
        "\n",
        "# 객체 생성\n",
        "a = Account('이상원', 100)\n",
        "b = Account('이상이', 400)\n",
        "c = Account('이상수', 600)\n",
        "\n",
        "# 개체 리스트 추가\n",
        "a.account_list() # 리스트 1개 값\n",
        "b.account_list() # 리스트 2개 값\n",
        "c.account_list() # 리스트 3개 값(누적)"
      ],
      "metadata": {
        "colab": {
          "base_uri": "https://localhost:8080/"
        },
        "id": "7viVvFMWXEvu",
        "outputId": "cd8563b7-d399-4217-b102-d90705fb04e6"
      },
      "execution_count": 156,
      "outputs": [
        {
          "output_type": "stream",
          "name": "stdout",
          "text": [
            "계좌현황:  ['이상원']\n",
            "계좌현황:  ['이상원', '이상이']\n",
            "계좌현황:  ['이상원', '이상이', '이상수']\n"
          ]
        }
      ]
    },
    {
      "cell_type": "markdown",
      "source": [
        "Q9. 객체 순회 반복문을 통해 리스트에 있는 객체를 순회하면서 잔고가 100만원 이상인 고객의 정보만 출력하세요."
      ],
      "metadata": {
        "id": "xHD8rHJ8vuWp"
      }
    },
    {
      "cell_type": "code",
      "source": [
        "class Account:\n",
        "  count = 0\n",
        "  order_account = []\n",
        "\n",
        "  def __init__(self, holder, balance):\n",
        "    self.deposit_count = 0\n",
        "\n",
        "    self.bank = 'SC은행'\n",
        "    self.holder = holder\n",
        "\n",
        "    n1 = r.randint(0, 999)\n",
        "    n2 = r.randint(0, 99)\n",
        "    n3 = r.randint(0, 999999)\n",
        "    self.account_n = str(n1) + '-' + str(n2) + '-' + str(n3)\n",
        "\n",
        "    self.balance = balance\n",
        "\n",
        "    Account.count += 1\n",
        "\n",
        "  def account_list(self):\n",
        "    Account.order_account.append(self.holder)\n",
        "    print('계좌현황: ', Account.order_account)\n",
        "\n",
        "\n",
        "  def get_account_num(self):\n",
        "    print(Account.count)\n",
        "\n",
        "  def deposit(self, deposit):\n",
        "    print('입금액 :', deposit)\n",
        "    self.balance += deposit\n",
        "    self.deposit_count += 1\n",
        "    if self.deposit_count % 5 == 0:\n",
        "      self.balance = self.balance + (self.balance*0.01)\n",
        "\n",
        "  def withdraw(self, withdraw):\n",
        "    print('출금액', withdraw)\n",
        "    self.balance -= withdraw\n",
        "\n",
        "  def display_info(self):\n",
        "    print('은행:', self.bank)\n",
        "    print('예금주:', self.holder)\n",
        "    print('계좌번호:',self.account_n)\n",
        "    print('잔액:', self.balance, '원')\n",
        "\n",
        "# 객체 생성\n",
        "a = Account('이상원', 2000000)\n",
        "b = Account('이상이', 40000)\n",
        "c = Account('이상수', 6000)\n",
        "d = Account('이상사', 1000000)\n",
        "\n",
        "# 리스트의 객체들 중 100,000 이상 계좌 정보 출력\n",
        "## 객체들을 리스트에 저장\n",
        "all_display_info = [a, b, c, d]\n",
        "\n",
        "## for 문으로 1,000,000이상 계좌 정보 출력\n",
        "for i in all_display_info:\n",
        "  if i.balance >= 1000000:\n",
        "    i.display_info()"
      ],
      "metadata": {
        "colab": {
          "base_uri": "https://localhost:8080/"
        },
        "id": "lz8q_fB-4_37",
        "outputId": "6bfa960f-c324-4c91-fc2f-62b67d41df59"
      },
      "execution_count": 162,
      "outputs": [
        {
          "output_type": "stream",
          "name": "stdout",
          "text": [
            "은행: SC은행\n",
            "예금주: 이상원\n",
            "계좌번호: 44-29-653905\n",
            "잔액: 2000000 원\n",
            "은행: SC은행\n",
            "예금주: 이상사\n",
            "계좌번호: 865-59-63462\n",
            "잔액: 1000000 원\n"
          ]
        }
      ]
    },
    {
      "cell_type": "markdown",
      "source": [
        "Q10. 입출금 내역: 입금과 출금 내역이 기록되도록 코드를 업데이트 하세요.\n",
        "\n",
        "입금 내역과 출금 내역을 출력하는 deposit_history와 withdraw_history 메서드를 추가하세요."
      ],
      "metadata": {
        "id": "z8GGOnKH6tH1"
      }
    },
    {
      "cell_type": "code",
      "source": [
        "class Account:\n",
        "  count = 0\n",
        "  order_account = []\n",
        "\n",
        "  def __init__(self, holder, balance):\n",
        "    self.deposit_count = 0\n",
        "    # 입금내역 빈 리스트\n",
        "    self.deposits = []\n",
        "    # 출금내역 빈 리스트\n",
        "    self.withdraws = []\n",
        "\n",
        "    self.bank = 'SC은행'\n",
        "    self.holder = holder\n",
        "\n",
        "    n1 = r.randint(0, 999)\n",
        "    n2 = r.randint(0, 99)\n",
        "    n3 = r.randint(0, 999999)\n",
        "    self.account_n = str(n1) + '-' + str(n2) + '-' + str(n3)\n",
        "\n",
        "    self.balance = balance\n",
        "\n",
        "    Account.count += 1\n",
        "\n",
        "  def account_list(self):\n",
        "    Account.order_account.append(self.holder)\n",
        "    print('계좌현황: ', Account.order_account)\n",
        "\n",
        "\n",
        "  def get_account_num(self):\n",
        "    print(Account.count)\n",
        "\n",
        "  def deposit(self, deposit):\n",
        "    print('입금액 :', deposit)\n",
        "    self.balance += deposit\n",
        "    self.deposit_count += 1\n",
        "    # 입금 내역을 위에 빈 리스트에 추가\n",
        "    self.deposits.append(deposit)\n",
        "\n",
        "    if self.deposit_count % 5 == 0:\n",
        "      self.balance = self.balance + (self.balance*0.01)\n",
        "\n",
        "  def withdraw(self, withdraw):\n",
        "    print('출금액', withdraw)\n",
        "    self.balance -= withdraw\n",
        "    # 출금 내역을 위에 빈 리스트 추가\n",
        "    self.withdraws.append(withdraw)\n",
        "\n",
        "  def display_info(self):\n",
        "    print('은행:', self.bank)\n",
        "    print('예금주:', self.holder)\n",
        "    print('계좌번호:',self.account_n)\n",
        "    print('잔액:', self.balance, '원')\n",
        "\n",
        "  # deposit_history 메소드 추가\n",
        "  def deposit_history(self):\n",
        "    for i in self.deposits:\n",
        "      print(\"입금내역: \", i)\n",
        "\n",
        "  # withdraw_history 메소드 추가\n",
        "  def withdraw_history(self):\n",
        "    for i in self.withdraws:\n",
        "      print(\"출금내역: \", i)\n",
        "\n",
        "# 객체 생성 및 입금, 출금 메소드\n",
        "a = Account('이상원', 200)\n",
        "a.deposit(200)\n",
        "a.deposit(200)\n",
        "a.deposit(200)\n",
        "a.withdraw(100)\n",
        "a.withdraw(100)\n",
        "a.withdraw(100)\n",
        "\n",
        "# 입금, 출금 내역 출력\n",
        "a.deposit_history()\n",
        "\n",
        "a.withdraw_history()"
      ],
      "metadata": {
        "colab": {
          "base_uri": "https://localhost:8080/"
        },
        "id": "VPj6BoAs6x_S",
        "outputId": "b9d72972-1de0-4e07-f720-365d32ba7112"
      },
      "execution_count": 214,
      "outputs": [
        {
          "output_type": "stream",
          "name": "stdout",
          "text": [
            "입금액 : 200\n",
            "입금액 : 200\n",
            "입금액 : 200\n",
            "출금액 100\n",
            "출금액 100\n",
            "출금액 100\n",
            "입금내역:  200\n",
            "입금내역:  200\n",
            "입금내역:  200\n",
            "출금내역:  100\n",
            "출금내역:  100\n",
            "출금내역:  100\n"
          ]
        }
      ]
    },
    {
      "cell_type": "markdown",
      "source": [
        "# 메인 퀘스트 2번"
      ],
      "metadata": {
        "id": "Ifj6BvYYGvco"
      }
    },
    {
      "cell_type": "markdown",
      "source": [
        "Q1. 코어 명단(딕셔너리)을 입력받아 학번을 부여하는 초기화 메서드를 작성해보세요"
      ],
      "metadata": {
        "id": "CAf7DkxSG5Jo"
      }
    },
    {
      "cell_type": "code",
      "source": [
        "class Aiffel:\n",
        "\n",
        "  def __init__(self, 이름, 입학연도, 기수, 과정명):\n",
        "    self.이름 = 이름\n",
        "    self.입학연도 = 입학연도\n",
        "    self.기수 = 기수\n",
        "    self.과정명 = 과정명\n",
        "    self.코어명단 = {'강영현': 0, '김경민':0, '김민기': 0, '김승순': 0,\n",
        "                 '김양희': 0, '김영신':0, '오우진': 0, '윤혜윤': 0, '이상원': 0,\n",
        "                 '이선재': 0, '이슬': 0, '이승환': 0, '전민규': 0, '조보겸': 0,\n",
        "                 '조수민': 0, '최강훈': 0, '한현종': 0, '홍채림': 0}\n",
        "\n",
        "  def order_student_num(self):\n",
        "    sorted_name = sorted(self.코어명단.keys())\n",
        "    코어 = '2'\n",
        "    학번 = [f'{str(self.입학연도)[-2:]}{self.기수}{코어}{i+1:02d}' for i in range(len(sorted_name))]\n",
        "    self.코어명단 = dict(zip(sorted_name , 학번))\n",
        "    return self.코어명단\n",
        "\n",
        "# 클래스에 인스턴스 속성 값 부여 및 객체 생성\n",
        "aiffel_class = Aiffel(\"somename\", 2023, 29, \"코어\")\n",
        "student_number = aiffel_class.order_student_num()\n",
        "print(student_number)\n",
        "\n",
        "for key, value in student_number.items():\n",
        "    print(f\"{key}: {value}\")"
      ],
      "metadata": {
        "colab": {
          "base_uri": "https://localhost:8080/"
        },
        "id": "bm4aFb_pG4Fg",
        "outputId": "fb5504e3-2157-498b-ec30-d1727ff5a1bd"
      },
      "execution_count": 228,
      "outputs": [
        {
          "output_type": "stream",
          "name": "stdout",
          "text": [
            "{'강영현': '2329201', '김경민': '2329202', '김민기': '2329203', '김승순': '2329204', '김양희': '2329205', '김영신': '2329206', '오우진': '2329207', '윤혜윤': '2329208', '이상원': '2329209', '이선재': '2329210', '이슬': '2329211', '이승환': '2329212', '전민규': '2329213', '조보겸': '2329214', '조수민': '2329215', '최강훈': '2329216', '한현종': '2329217', '홍채림': '2329218'}\n",
            "강영현: 2329201\n",
            "김경민: 2329202\n",
            "김민기: 2329203\n",
            "김승순: 2329204\n",
            "김양희: 2329205\n",
            "김영신: 2329206\n",
            "오우진: 2329207\n",
            "윤혜윤: 2329208\n",
            "이상원: 2329209\n",
            "이선재: 2329210\n",
            "이슬: 2329211\n",
            "이승환: 2329212\n",
            "전민규: 2329213\n",
            "조보겸: 2329214\n",
            "조수민: 2329215\n",
            "최강훈: 2329216\n",
            "한현종: 2329217\n",
            "홍채림: 2329218\n"
          ]
        }
      ]
    },
    {
      "cell_type": "markdown",
      "source": [
        "Q2. Aiffel 클래스로부터 생성된 학번의 개수를 출력하는 get_id_num() 메서드를 추가하세요\n"
      ],
      "metadata": {
        "id": "Q-Rr4FhxZYz0"
      }
    },
    {
      "cell_type": "code",
      "source": [
        "class Aiffel:\n",
        "\n",
        "  def __init__(self, 이름, 입학연도, 기수, 과정명):\n",
        "    self.이름 = 이름\n",
        "    self.입학연도 = 입학연도\n",
        "    self.기수 = 기수\n",
        "    self.과정명 = 과정명\n",
        "    self.코어명단 = {'강영현': 0, '김경민':0, '김민기': 0, '김승순': 0,\n",
        "                 '김양희': 0, '김영신':0, '오우진': 0, '윤혜윤': 0, '이상원': 0,\n",
        "                 '이선재': 0, '이슬': 0, '이승환': 0, '전민규': 0, '조보겸': 0,\n",
        "                 '조수민': 0, '최강훈': 0, '한현종': 0, '홍채림': 0}\n",
        "\n",
        "  def order_student_num(self):\n",
        "    sorted_name = sorted(self.코어명단.keys())\n",
        "    코어 = '2'\n",
        "    학번 = [f'{str(self.입학연도)[-2:]}{self.기수}{코어}{i+1:02d}' for i in range(len(sorted_name))]\n",
        "    self.코어명단 = dict(zip(sorted_name , 학번))\n",
        "    return self.코어명단\n",
        "\n",
        "  # 학번 개수 출력 메소드\n",
        "  def get_id_num(self):\n",
        "    student_number = aiffel_class.order_student_num()\n",
        "    return len(student_number)\n",
        "\n",
        "# 객체 생성 및 학번 개수 출력\n",
        "aiffel_class = Aiffel(\"somename\", 2023, 29, \"코어\")\n",
        "print(aiffel_class.get_id_num(), '개')"
      ],
      "metadata": {
        "colab": {
          "base_uri": "https://localhost:8080/"
        },
        "id": "g9S7rBQ6ZZZ6",
        "outputId": "395f50eb-8d47-4d4a-ad01-7fbbc4add202"
      },
      "execution_count": 243,
      "outputs": [
        {
          "output_type": "stream",
          "name": "stdout",
          "text": [
            "18 개\n"
          ]
        }
      ]
    },
    {
      "cell_type": "markdown",
      "source": [
        "Q3. Aiffel 클래스에 퀘스트 점수 입력을 위한 score 메서드를 추가하세요. 점수는 +1점 부터 +3점까지만\n",
        "가능합니다."
      ],
      "metadata": {
        "id": "AzmaK56PcmOO"
      }
    },
    {
      "cell_type": "code",
      "source": [
        "class Aiffel:\n",
        "\n",
        "  def __init__(self, 이름, 입학연도, 기수, 과정명):\n",
        "    self.이름 = 이름\n",
        "    self.입학연도 = 입학연도\n",
        "    self.기수 = 기수\n",
        "    self.과정명 = 과정명\n",
        "    self.코어명단 = {'강영현': 0, '김경민':0, '김민기': 0, '김승순': 0,\n",
        "                 '김양희': 0, '김영신':0, '오우진': 0, '윤혜윤': 0, '이상원': 0,\n",
        "                 '이선재': 0, '이슬': 0, '이승환': 0, '전민규': 0, '조보겸': 0,\n",
        "                 '조수민': 0, '최강훈': 0, '한현종': 0, '홍채림': 0}\n",
        "\n",
        "  def order_student_num(self):\n",
        "    sorted_name = sorted(self.코어명단.keys())\n",
        "    코어 = '2'\n",
        "    학번 = [f'{str(self.입학연도)[-2:]}{self.기수}{코어}{i+1:02d}' for i in range(len(sorted_name))]\n",
        "    self.코어명단 = dict(zip(sorted_name , 학번))\n",
        "    return self.코어명단\n",
        "\n",
        "  def get_id_num(self):\n",
        "    student_number = aiffel_class.order_student_num()\n",
        "    return len(student_number)\n",
        "\n",
        "  # score 메소드 추가\n",
        "  def score(self, 이름,점수):\n",
        "    if 1 <= 점수 <= 3:\n",
        "      if 이름 in self.코어명단:\n",
        "        self.코어명단[이름] = 점수\n",
        "        print(f'{이름}의 퀘스트 점수가 {점수}점 입력되었습니다.')\n",
        "      else:\n",
        "        print('존재하지 않는 명단입니다.')\n",
        "    else:\n",
        "        print(\"점수는 1점부터 3점까지만 입력 가능합니다.\")\n",
        "\n",
        "\n",
        "# 객체 생성 및 점수 출력\n",
        "aiffel_class = Aiffel(\"somename\", 2023, 29, \"코어\")\n",
        "aiffel_class.score(\"이상원\", 3)"
      ],
      "metadata": {
        "colab": {
          "base_uri": "https://localhost:8080/"
        },
        "id": "S88QyqQicnlp",
        "outputId": "c27badf5-babb-4980-e2d2-71d23ae88249"
      },
      "execution_count": 245,
      "outputs": [
        {
          "output_type": "stream",
          "name": "stdout",
          "text": [
            "이상원의 퀘스트 점수가 3점 입력되었습니다.\n"
          ]
        }
      ]
    },
    {
      "cell_type": "markdown",
      "source": [
        "Q4. Aiffel 클래스에 퀘스트 점수 차감을 위한 penalty 메서드를 추가하세요. penalty로 인한 잔여 점수는 음수가\n",
        "가능합니다."
      ],
      "metadata": {
        "id": "r5l64Ss1e8aU"
      }
    },
    {
      "cell_type": "code",
      "source": [
        "class Aiffel:\n",
        "\n",
        "  def __init__(self, 이름, 입학연도, 기수, 과정명):\n",
        "    self.이름 = 이름\n",
        "    self.입학연도 = 입학연도\n",
        "    self.기수 = 기수\n",
        "    self.과정명 = 과정명\n",
        "    self.코어명단 = {'강영현': 0, '김경민':0, '김민기': 0, '김승순': 0,\n",
        "                 '김양희': 0, '김영신':0, '오우진': 0, '윤혜윤': 0, '이상원': 0,\n",
        "                 '이선재': 0, '이슬': 0, '이승환': 0, '전민규': 0, '조보겸': 0,\n",
        "                 '조수민': 0, '최강훈': 0, '한현종': 0, '홍채림': 0}\n",
        "\n",
        "  def order_student_num(self):\n",
        "    sorted_name = sorted(self.코어명단.keys())\n",
        "    코어 = '2'\n",
        "    학번 = [f'{str(self.입학연도)[-2:]}{self.기수}{코어}{i+1:02d}' for i in range(len(sorted_name))]\n",
        "    self.코어명단 = dict(zip(sorted_name , 학번))\n",
        "    return self.코어명단\n",
        "\n",
        "  def get_id_num(self):\n",
        "    student_number = aiffel_class.order_student_num()\n",
        "    return len(student_number)\n",
        "\n",
        "  def score(self, 이름, 점수):\n",
        "    if 1 <= 점수 <= 3:\n",
        "      if 이름 in self.코어명단:\n",
        "        self.코어명단[이름] = 점수\n",
        "        print(f'{이름}의 퀘스트 점수가 {점수}점 입력되었습니다.')\n",
        "      else:\n",
        "        print('존재하지 않는 명단입니다.')\n",
        "    else:\n",
        "        print(\"점수는 1점부터 3점까지만 입력 가능합니다.\")\n",
        "\n",
        "  # penalty 메서드\n",
        "  def penalty(self, 이름, 차감점수):\n",
        "    if 이름 in self.코어명단:\n",
        "      self.코어명단[이름] = 차감점수\n",
        "      print(f'{이름}의 퀘스트 점수가 {차감점수}점 차감되었습니다.')\n",
        "\n",
        "# 객체 생성 및 점수 출력\n",
        "aiffel_class = Aiffel(\"somename\", 2023, 29, \"코어\")\n",
        "aiffel_class.score(\"이상원\", 3)\n",
        "aiffel_class.penalty(\"이상원\", 1)"
      ],
      "metadata": {
        "colab": {
          "base_uri": "https://localhost:8080/"
        },
        "id": "rOpROPige-2s",
        "outputId": "6360fb63-76c1-44ad-dd19-65756bab4e74"
      },
      "execution_count": 249,
      "outputs": [
        {
          "output_type": "stream",
          "name": "stdout",
          "text": [
            "이상원의 퀘스트 점수가 3점 입력되었습니다.\n",
            "이상원의 퀘스트 점수가 1점 차감되었습니다.\n"
          ]
        }
      ]
    }
  ]
}
