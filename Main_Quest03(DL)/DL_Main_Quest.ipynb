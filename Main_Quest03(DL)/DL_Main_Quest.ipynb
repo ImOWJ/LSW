{
 "cells": [
  {
   "cell_type": "code",
   "execution_count": 1,
   "id": "38cc696c",
   "metadata": {},
   "outputs": [
    {
     "name": "stdout",
     "output_type": "stream",
     "text": [
      "WARNING:tensorflow:From C:\\Users\\Lenovo\\AppData\\Roaming\\Python\\Python311\\site-packages\\keras\\src\\losses.py:2976: The name tf.losses.sparse_softmax_cross_entropy is deprecated. Please use tf.compat.v1.losses.sparse_softmax_cross_entropy instead.\n",
      "\n",
      "2.15.0\n",
      "1.24.3\n"
     ]
    }
   ],
   "source": [
    "# 라이브러리\n",
    "import tensorflow as tf\n",
    "import numpy as np\n",
    "\n",
    "print(tf.__version__)\n",
    "print(np.__version__)"
   ]
  },
  {
   "cell_type": "markdown",
   "id": "cdbed7a9",
   "metadata": {},
   "source": [
    "# 1차 시도"
   ]
  },
  {
   "cell_type": "markdown",
   "id": "12ad72b9",
   "metadata": {},
   "source": [
    "## 1. 데이터 준비"
   ]
  },
  {
   "cell_type": "code",
   "execution_count": 2,
   "id": "45556a34",
   "metadata": {},
   "outputs": [
    {
     "name": "stdout",
     "output_type": "stream",
     "text": [
      "PIL 라이브러리 import 완료!\n"
     ]
    }
   ],
   "source": [
    "# 라이브러리\n",
    "from PIL import Image\n",
    "import glob\n",
    "import os\n",
    "\n",
    "print(\"PIL 라이브러리 import 완료!\")"
   ]
  },
  {
   "cell_type": "markdown",
   "id": "78c5cfd6",
   "metadata": {},
   "source": [
    "### - 데이터 사이즈 변경"
   ]
  },
  {
   "cell_type": "code",
   "execution_count": 50,
   "id": "9354a560",
   "metadata": {},
   "outputs": [],
   "source": [
    "from PIL import Image\n",
    "import os\n",
    "\n",
    "def resize_images(img_path):\n",
    "\timages=glob.glob(img_path + \"/*.jpg\")  \n",
    "    \n",
    "\tprint(len(images), \" images to be resized.\")\n",
    "\n",
    "\n",
    "\ttarget_size=(28,28)\n",
    "\tfor img in images:\n",
    "\t\told_img=Image.open(img)\n",
    "\t\tnew_img=old_img.resize(target_size,Image.LANCZOS)\n",
    "\t\tnew_img.save(img, \"JPEG\")\n",
    "    \n",
    "\tprint(len(images), \" images resized.\")"
   ]
  },
  {
   "cell_type": "code",
   "execution_count": 5,
   "id": "a8b3bed5",
   "metadata": {},
   "outputs": [
    {
     "name": "stdout",
     "output_type": "stream",
     "text": [
      "100  images to be resized.\n",
      "100  images resized.\n",
      "가위 이미지 resize 완료!\n"
     ]
    }
   ],
   "source": [
    "# 가위 데이터 resize\n",
    "image_dir_path = r'C:\\Users\\Lenovo\\aiffel\\Aiffel_Quest\\Main03\\rock_scissor_paper\\scissor'\n",
    "resize_images(image_dir_path)\n",
    "\n",
    "print(\"가위 이미지 resize 완료!\")"
   ]
  },
  {
   "cell_type": "code",
   "execution_count": 6,
   "id": "98a43ec6",
   "metadata": {},
   "outputs": [
    {
     "name": "stdout",
     "output_type": "stream",
     "text": [
      "100  images to be resized.\n",
      "100  images resized.\n",
      "바위 이미지 resize 완료!\n"
     ]
    }
   ],
   "source": [
    "# 바위 데이터 resize\n",
    "\n",
    "image_dir_path = r'C:\\Users\\Lenovo\\aiffel\\Aiffel_Quest\\Main03\\rock_scissor_paper\\rock'\n",
    "resize_images(image_dir_path)\n",
    "\n",
    "print(\"바위 이미지 resize 완료!\")"
   ]
  },
  {
   "cell_type": "code",
   "execution_count": 7,
   "id": "554094fe",
   "metadata": {},
   "outputs": [
    {
     "name": "stdout",
     "output_type": "stream",
     "text": [
      "100  images to be resized.\n",
      "100  images resized.\n",
      "보 이미지 resize 완료!\n"
     ]
    }
   ],
   "source": [
    "# 보 데이터 resize\n",
    "\n",
    "image_dir_path = r'C:\\Users\\Lenovo\\aiffel\\Aiffel_Quest\\Main03\\rock_scissor_paper\\paper'\n",
    "resize_images(image_dir_path)\n",
    "\n",
    "print(\"보 이미지 resize 완료!\")"
   ]
  },
  {
   "cell_type": "markdown",
   "id": "4d6d1918",
   "metadata": {},
   "source": [
    "### - load_data()로 데이터 읽기"
   ]
  },
  {
   "cell_type": "code",
   "execution_count": 40,
   "id": "23827f8f",
   "metadata": {},
   "outputs": [],
   "source": [
    "import numpy as np\n",
    "\n",
    "def load_data(img_path, number_of_data=600):  \n",
    "    # 가위 : 0, 바위 : 1, 보 : 2\n",
    "    img_size=28\n",
    "    color=3\n",
    "    #이미지 데이터와 라벨(가위 : 0, 바위 : 1, 보 : 2) 데이터를 담을 행렬(matrix) 영역을 생성.\n",
    "    imgs=np.zeros(number_of_data*img_size*img_size*color,dtype=np.int32).reshape(number_of_data,img_size,img_size,color)\n",
    "    labels=np.zeros(number_of_data,dtype=np.int32)\n",
    "\n",
    "    idx=0\n",
    "    for file in glob.iglob(img_path+'/scissor/*.jpg'):\n",
    "        img = np.array(Image.open(file),dtype=np.int32)\n",
    "        imgs[idx,:,:,:]=img    # 데이터 영역에 이미지 행렬을 복사\n",
    "        labels[idx]=0   # 가위 : 0\n",
    "        idx=idx+1\n",
    "\n",
    "    for file in glob.iglob(img_path+'/rock/*.jpg'):\n",
    "        img = np.array(Image.open(file),dtype=np.int32)\n",
    "        imgs[idx,:,:,:]=img    # 데이터 영역에 이미지 행렬을 복사\n",
    "        labels[idx]=1   # 바위 : 1\n",
    "        idx=idx+1  \n",
    "    \n",
    "    for file in glob.iglob(img_path+'/paper/*.jpg'):\n",
    "        img = np.array(Image.open(file),dtype=np.int32)\n",
    "        imgs[idx,:,:,:]=img    # 데이터 영역에 이미지 행렬을 복사\n",
    "        labels[idx]=2   # 보 : 2\n",
    "        idx=idx+1\n",
    "        \n",
    "    print(\"학습데이터(x_train)의 이미지 개수는\", idx,\"입니다.\")\n",
    "    return imgs, labels"
   ]
  },
  {
   "cell_type": "code",
   "execution_count": 7,
   "id": "0dd95e5e",
   "metadata": {},
   "outputs": [
    {
     "name": "stdout",
     "output_type": "stream",
     "text": [
      "학습데이터(x_train)의 이미지 개수는 300 입니다.\n",
      "x_train shape: (300, 28, 28, 3)\n",
      "y_train shape: (300,)\n"
     ]
    }
   ],
   "source": [
    "image_dir_path = r'C:\\Users\\Lenovo\\aiffel\\Aiffel_Quest\\Main03\\rock_scissor_paper'\n",
    "(x_train, y_train)=load_data(image_dir_path)\n",
    "x_train_norm = x_train/255.0   # 입력은 0~1 사이의 값으로 정규화\n",
    "\n",
    "print(\"x_train shape: {}\".format(x_train.shape))\n",
    "print(\"y_train shape: {}\".format(y_train.shape))"
   ]
  },
  {
   "cell_type": "code",
   "execution_count": 9,
   "id": "6cbe7629",
   "metadata": {},
   "outputs": [
    {
     "name": "stdout",
     "output_type": "stream",
     "text": [
      "라벨:  0\n"
     ]
    },
    {
     "data": {
      "image/png": "[encoded data removed]",
      "text/plain": [
       "<Figure size 640x480 with 1 Axes>"
      ]
     },
     "metadata": {},
     "output_type": "display_data"
    }
   ],
   "source": [
    "# 이미지 확인\n",
    "import matplotlib.pyplot as plt\n",
    "\n",
    "plt.imshow(x_train[0])\n",
    "print('라벨: ', y_train[0])"
   ]
  },
  {
   "cell_type": "markdown",
   "id": "6a18685a",
   "metadata": {},
   "source": [
    "## 2. 딥러닝 네트워크 설계하기"
   ]
  },
  {
   "cell_type": "code",
   "execution_count": 57,
   "id": "b87cc9bd",
   "metadata": {},
   "outputs": [
    {
     "name": "stdout",
     "output_type": "stream",
     "text": [
      "Model: \"sequential_2\"\n",
      "_________________________________________________________________\n",
      " Layer (type)                Output Shape              Param #   \n",
      "=================================================================\n",
      " conv2d_4 (Conv2D)           (None, 26, 26, 16)        448       \n",
      "                                                                 \n",
      " max_pooling2d_4 (MaxPoolin  (None, 13, 13, 16)        0         \n",
      " g2D)                                                            \n",
      "                                                                 \n",
      " conv2d_5 (Conv2D)           (None, 11, 11, 32)        4640      \n",
      "                                                                 \n",
      " max_pooling2d_5 (MaxPoolin  (None, 5, 5, 32)          0         \n",
      " g2D)                                                            \n",
      "                                                                 \n",
      " flatten_2 (Flatten)         (None, 800)               0         \n",
      "                                                                 \n",
      " dense_4 (Dense)             (None, 64)                51264     \n",
      "                                                                 \n",
      " dense_5 (Dense)             (None, 3)                 195       \n",
      "                                                                 \n",
      "=================================================================\n",
      "Total params: 56547 (220.89 KB)\n",
      "Trainable params: 56547 (220.89 KB)\n",
      "Non-trainable params: 0 (0.00 Byte)\n",
      "_________________________________________________________________\n"
     ]
    }
   ],
   "source": [
    "import tensorflow as tf\n",
    "from tensorflow import keras\n",
    "import numpy as np\n",
    "\n",
    "model = keras.models.Sequential()\n",
    "model.add(keras.layers.Conv2D(16, (3, 3), activation='relu', input_shape=(28, 28, 3))) \n",
    "model.add(keras.layers.MaxPool2D(2, 2))\n",
    "model.add(keras.layers.Conv2D(32, (3, 3), activation='relu'))\n",
    "model.add(keras.layers.MaxPooling2D((2, 2)))\n",
    "model.add(keras.layers.Flatten())\n",
    "model.add(keras.layers.Dense(64, activation='relu'))  \n",
    "model.add(keras.layers.Dense(3, activation='softmax'))  \n",
    "\n",
    "model.summary()"
   ]
  },
  {
   "cell_type": "markdown",
   "id": "8f968dca",
   "metadata": {},
   "source": [
    "## 3. 딥러닝 네트워크 학습시키기"
   ]
  },
  {
   "cell_type": "code",
   "execution_count": 9,
   "id": "20d466b1",
   "metadata": {},
   "outputs": [
    {
     "name": "stdout",
     "output_type": "stream",
     "text": [
      "Epoch 1/10\n",
      "WARNING:tensorflow:From C:\\Users\\Lenovo\\AppData\\Roaming\\Python\\Python311\\site-packages\\keras\\src\\utils\\tf_utils.py:492: The name tf.ragged.RaggedTensorValue is deprecated. Please use tf.compat.v1.ragged.RaggedTensorValue instead.\n",
      "\n",
      "WARNING:tensorflow:From C:\\Users\\Lenovo\\AppData\\Roaming\\Python\\Python311\\site-packages\\keras\\src\\engine\\base_layer_utils.py:384: The name tf.executing_eagerly_outside_functions is deprecated. Please use tf.compat.v1.executing_eagerly_outside_functions instead.\n",
      "\n",
      "10/10 [==============================] - 4s 18ms/step - loss: 1.0993 - accuracy: 0.3167\n",
      "Epoch 2/10\n",
      "10/10 [==============================] - 0s 18ms/step - loss: 1.0644 - accuracy: 0.3467\n",
      "Epoch 3/10\n",
      "10/10 [==============================] - 0s 39ms/step - loss: 1.0211 - accuracy: 0.7267\n",
      "Epoch 4/10\n",
      "10/10 [==============================] - 0s 22ms/step - loss: 0.9476 - accuracy: 0.7433\n",
      "Epoch 5/10\n",
      "10/10 [==============================] - 0s 22ms/step - loss: 0.8209 - accuracy: 0.9233\n",
      "Epoch 6/10\n",
      "10/10 [==============================] - 0s 21ms/step - loss: 0.6442 - accuracy: 0.9067\n",
      "Epoch 7/10\n",
      "10/10 [==============================] - 0s 18ms/step - loss: 0.4723 - accuracy: 0.9400\n",
      "Epoch 8/10\n",
      "10/10 [==============================] - 0s 19ms/step - loss: 0.3375 - accuracy: 0.9533\n",
      "Epoch 9/10\n",
      "10/10 [==============================] - 0s 19ms/step - loss: 0.2144 - accuracy: 0.9800\n",
      "Epoch 10/10\n",
      "10/10 [==============================] - 0s 26ms/step - loss: 0.1472 - accuracy: 0.9867\n"
     ]
    },
    {
     "data": {
      "text/plain": [
       "<keras.src.callbacks.History at 0x1e87fe8a890>"
      ]
     },
     "execution_count": 9,
     "metadata": {},
     "output_type": "execute_result"
    }
   ],
   "source": [
    "# 모델학습\n",
    "model.compile(optimizer='adam',\n",
    "             loss='sparse_categorical_crossentropy',\n",
    "             metrics=['accuracy'])\n",
    "\n",
    "model.fit(x_train_norm, y_train, epochs=10)"
   ]
  },
  {
   "cell_type": "markdown",
   "id": "c2af5740",
   "metadata": {},
   "source": [
    "## 4. 성능 확인"
   ]
  },
  {
   "cell_type": "markdown",
   "id": "93c7bcd1",
   "metadata": {},
   "source": [
    "### - test 데이터 사이즈 변경 및 세팅"
   ]
  },
  {
   "cell_type": "code",
   "execution_count": 17,
   "id": "f15f001f",
   "metadata": {},
   "outputs": [
    {
     "name": "stdout",
     "output_type": "stream",
     "text": [
      "110  images to be resized.\n",
      "110  images resized.\n",
      "가위 이미지 resize 완료!\n"
     ]
    }
   ],
   "source": [
    "# test가위 데이터 resize\n",
    "\n",
    "image_dir_path = r'C:\\Users\\Lenovo\\aiffel\\Aiffel_Quest\\Main03\\test\\scissor'\n",
    "resize_images(image_dir_path)\n",
    "\n",
    "print(\"가위 이미지 resize 완료!\")"
   ]
  },
  {
   "cell_type": "code",
   "execution_count": 18,
   "id": "b704fb3c",
   "metadata": {},
   "outputs": [
    {
     "name": "stdout",
     "output_type": "stream",
     "text": [
      "128  images to be resized.\n",
      "128  images resized.\n",
      "바위 이미지 resize 완료!\n"
     ]
    }
   ],
   "source": [
    "# test 바위 데이터 resize\n",
    "\n",
    "image_dir_path = r'C:\\Users\\Lenovo\\aiffel\\Aiffel_Quest\\Main03\\test\\rock'\n",
    "resize_images(image_dir_path)\n",
    "\n",
    "print(\"바위 이미지 resize 완료!\")"
   ]
  },
  {
   "cell_type": "code",
   "execution_count": 19,
   "id": "bbd5ea56",
   "metadata": {},
   "outputs": [
    {
     "name": "stdout",
     "output_type": "stream",
     "text": [
      "109  images to be resized.\n",
      "109  images resized.\n",
      "보 이미지 resize 완료!\n"
     ]
    }
   ],
   "source": [
    "# test 보 데이터 resize\n",
    "\n",
    "image_dir_path = r'C:\\Users\\Lenovo\\aiffel\\Aiffel_Quest\\Main03\\test\\paper'\n",
    "resize_images(image_dir_path)\n",
    "\n",
    "print(\"보 이미지 resize 완료!\")"
   ]
  },
  {
   "cell_type": "code",
   "execution_count": 10,
   "id": "75cb63e2",
   "metadata": {},
   "outputs": [
    {
     "name": "stdout",
     "output_type": "stream",
     "text": [
      "학습데이터(x_train)의 이미지 개수는 300 입니다.\n",
      "x_test shape: (300, 28, 28, 3)\n",
      "y_test shape: (300,)\n"
     ]
    }
   ],
   "source": [
    "# test 데이터 셋\n",
    "\n",
    "image_dir_path = r'C:\\Users\\Lenovo\\aiffel\\Aiffel_Quest\\Main03\\test'\n",
    "(x_test, y_test)=load_data(image_dir_path)\n",
    "x_test_norm = x_test/255.0   # 입력은 0~1 사이의 값으로 정규화\n",
    "\n",
    "print(\"x_test shape: {}\".format(x_test.shape))\n",
    "print(\"y_test shape: {}\".format(y_test.shape))"
   ]
  },
  {
   "cell_type": "markdown",
   "id": "adf70c45",
   "metadata": {},
   "source": [
    "### - 모델 성능 확인"
   ]
  },
  {
   "cell_type": "code",
   "execution_count": 11,
   "id": "d4846224",
   "metadata": {},
   "outputs": [
    {
     "name": "stdout",
     "output_type": "stream",
     "text": [
      "10/10 - 1s - loss: 2.2000 - accuracy: 0.4967 - 555ms/epoch - 56ms/step\n",
      "test_loss: 2.20002818107605\n",
      "test_accuracy: 0.49666666984558105\n"
     ]
    }
   ],
   "source": [
    "# 데이터 성능 확인\n",
    "test_loss, test_accuracy = model.evaluate(x_test_norm,y_test, verbose=2)\n",
    "print(f\"test_loss: {test_loss}\")\n",
    "print(f\"test_accuracy: {test_accuracy}\")"
   ]
  },
  {
   "cell_type": "code",
   "execution_count": 12,
   "id": "0e59c8cf",
   "metadata": {},
   "outputs": [
    {
     "name": "stdout",
     "output_type": "stream",
     "text": [
      "10/10 [==============================] - 0s 7ms/step\n",
      "model.predict() 결과 :  [0.3453927  0.02293652 0.6316708 ]\n",
      "model이 추론한 가장 가능성이 높은 결과 :  2\n",
      "실제 데이터의 라벨 :  0\n"
     ]
    }
   ],
   "source": [
    "# 실제 추론한 확률분포 출력\n",
    "predicted_result = model.predict(x_test_norm)  # model이 추론한 확률값. \n",
    "predicted_labels = np.argmax(predicted_result, axis=1)\n",
    "\n",
    "idx=0  #1번째 x_test 확인\n",
    "print('model.predict() 결과 : ', predicted_result[idx])\n",
    "print('model이 추론한 가장 가능성이 높은 결과 : ', predicted_labels[idx])\n",
    "print('실제 데이터의 라벨 : ', y_test[idx])"
   ]
  },
  {
   "cell_type": "code",
   "execution_count": 14,
   "id": "fc248654",
   "metadata": {},
   "outputs": [
    {
     "data": {
      "image/png": "[encoded data removed]",
      "text/plain": [
       "<Figure size 640x480 with 1 Axes>"
      ]
     },
     "metadata": {},
     "output_type": "display_data"
    }
   ],
   "source": [
    "import matplotlib.pyplot as plt\n",
    "\n",
    "plt.imshow(x_test[idx],cmap=plt.cm.binary)\n",
    "plt.show()"
   ]
  },
  {
   "cell_type": "code",
   "execution_count": 15,
   "id": "bd1afa0d",
   "metadata": {},
   "outputs": [
    {
     "name": "stdout",
     "output_type": "stream",
     "text": [
      "예측확률분포: [2.4880705e-02 5.9638147e-05 9.7505969e-01]\n",
      "라벨: 1, 예측결과: 2\n"
     ]
    },
    {
     "data": {
      "image/png": "[encoded data removed]",
      "text/plain": [
       "<Figure size 640x480 with 1 Axes>"
      ]
     },
     "metadata": {},
     "output_type": "display_data"
    },
    {
     "name": "stdout",
     "output_type": "stream",
     "text": [
      "예측확률분포: [9.4059151e-01 2.9658494e-04 5.9111927e-02]\n",
      "라벨: 1, 예측결과: 0\n"
     ]
    },
    {
     "data": {
      "image/png": "[encoded data removed]",
      "text/plain": [
       "<Figure size 640x480 with 1 Axes>"
      ]
     },
     "metadata": {},
     "output_type": "display_data"
    },
    {
     "name": "stdout",
     "output_type": "stream",
     "text": [
      "예측확률분포: [0.35983405 0.00458395 0.635582  ]\n",
      "라벨: 0, 예측결과: 2\n"
     ]
    },
    {
     "data": {
      "image/png": "[encoded data removed]",
      "text/plain": [
       "<Figure size 640x480 with 1 Axes>"
      ]
     },
     "metadata": {},
     "output_type": "display_data"
    },
    {
     "name": "stdout",
     "output_type": "stream",
     "text": [
      "예측확률분포: [0.77430546 0.05863734 0.16705723]\n",
      "라벨: 1, 예측결과: 0\n"
     ]
    },
    {
     "data": {
      "image/png": "[encoded data removed]",
      "text/plain": [
       "<Figure size 640x480 with 1 Axes>"
      ]
     },
     "metadata": {},
     "output_type": "display_data"
    },
    {
     "name": "stdout",
     "output_type": "stream",
     "text": [
      "예측확률분포: [0.9642342  0.00779578 0.02797004]\n",
      "라벨: 1, 예측결과: 0\n"
     ]
    },
    {
     "data": {
      "image/png": "[encoded data removed]",
      "text/plain": [
       "<Figure size 640x480 with 1 Axes>"
      ]
     },
     "metadata": {},
     "output_type": "display_data"
    }
   ],
   "source": [
    "# 실제와 다른 값 확인\n",
    "import random\n",
    "wrong_predict_list=[]\n",
    "for i, _ in enumerate(predicted_labels):\n",
    "    if predicted_labels[i] != y_test[i]:\n",
    "        wrong_predict_list.append(i)\n",
    "\n",
    "samples = random.choices(population=wrong_predict_list, k=5)\n",
    "\n",
    "for n in samples:\n",
    "    print(\"예측확률분포: \" + str(predicted_result[n]))\n",
    "    print(\"라벨: \" + str(y_test[n]) + \", 예측결과: \" + str(predicted_labels[n]))\n",
    "    plt.imshow(x_test[n], cmap=plt.cm.binary)\n",
    "    plt.show()"
   ]
  },
  {
   "cell_type": "markdown",
   "id": "c84783f6",
   "metadata": {},
   "source": [
    "# 2차 시도"
   ]
  },
  {
   "cell_type": "markdown",
   "id": "50f35127",
   "metadata": {},
   "source": [
    "## 1. 데이터 전처리(사진 이름 및 사이즈변경)"
   ]
  },
  {
   "cell_type": "code",
   "execution_count": 81,
   "id": "d14057a6",
   "metadata": {},
   "outputs": [],
   "source": [
    "import os\n",
    "\n",
    "folder_path = r'C:\\Users\\Lenovo\\aiffel\\Aiffel_Quest\\Main03\\reshape\\rock'\n",
    "\n",
    "os.chdir(folder_path)\n",
    "\n",
    "for i in range(100):\n",
    "    old_name = f'{i}.jpg'  # 기존 파일 이름\n",
    "    new_name = f'{i + 600}.jpg'  # 새로운 파일 이름\n",
    "    os.rename(old_name, new_name)  # 파일 이름 변경"
   ]
  },
  {
   "cell_type": "code",
   "execution_count": 51,
   "id": "cc2d8651",
   "metadata": {},
   "outputs": [
    {
     "name": "stdout",
     "output_type": "stream",
     "text": [
      "0  images to be resized.\n",
      "0  images resized.\n",
      "가위 이미지 resize 완료!\n",
      "0  images to be resized.\n",
      "0  images resized.\n",
      "바위 이미지 resize 완료!\n",
      "0  images to be resized.\n",
      "0  images resized.\n",
      "보 이미지 resize 완료!\n"
     ]
    }
   ],
   "source": [
    "# 추가 가위 데이터 resize\n",
    "\n",
    "image_dir_path = r'C:\\Users\\Lenovo\\aiffel\\Aiffel_Quest\\Main03\\test\\scissor'\n",
    "resize_images(image_dir_path)\n",
    "\n",
    "print(\"가위 이미지 resize 완료!\")\n",
    "\n",
    "# 추가 바위 데이터 resize\n",
    "\n",
    "image_dir_path = r'C:\\Users\\Lenovo\\aiffel\\Aiffel_Quest\\Main03\\test\\rock'\n",
    "resize_images(image_dir_path)\n",
    "\n",
    "print(\"바위 이미지 resize 완료!\")\n",
    "\n",
    "# 추가 보 데이터 resize\n",
    "\n",
    "image_dir_path = r'C:\\Users\\Lenovo\\aiffel\\Aiffel_Quest\\Main03\\test\\paper'\n",
    "resize_images(image_dir_path)\n",
    "\n",
    "print(\"보 이미지 resize 완료!\")"
   ]
  },
  {
   "cell_type": "markdown",
   "id": "d169ac70",
   "metadata": {},
   "source": [
    "## 2. 훈련 데이터셋"
   ]
  },
  {
   "cell_type": "code",
   "execution_count": 85,
   "id": "9c49dd90",
   "metadata": {},
   "outputs": [],
   "source": [
    "import numpy as np\n",
    "import glob\n",
    "from PIL import Image\n",
    "\n",
    "def load_data(img_path, number_of_data=2100):  \n",
    "    # 가위 : 0, 바위 : 1, 보 : 2\n",
    "    img_size=28\n",
    "    color=3\n",
    "    #이미지 데이터와 라벨(가위 : 0, 바위 : 1, 보 : 2) 데이터를 담을 행렬(matrix) 영역을 생성.\n",
    "    imgs=np.zeros(number_of_data*img_size*img_size*color,dtype=np.int32).reshape(number_of_data,img_size,img_size,color)\n",
    "    labels=np.zeros(number_of_data,dtype=np.int32)\n",
    "\n",
    "    idx=0\n",
    "    for file in glob.iglob(img_path+'/scissor/*.jpg'):\n",
    "        img = np.array(Image.open(file),dtype=np.int32)\n",
    "        imgs[idx,:,:,:]=img    # 데이터 영역에 이미지 행렬을 복사\n",
    "        labels[idx]=0   # 가위 : 0\n",
    "        idx=idx+1\n",
    "\n",
    "    for file in glob.iglob(img_path+'/rock/*.jpg'):\n",
    "        img = np.array(Image.open(file),dtype=np.int32)\n",
    "        imgs[idx,:,:,:]=img    # 데이터 영역에 이미지 행렬을 복사\n",
    "        labels[idx]=1   # 바위 : 1\n",
    "        idx=idx+1  \n",
    "    \n",
    "    for file in glob.iglob(img_path+'/paper/*.jpg'):\n",
    "        img = np.array(Image.open(file),dtype=np.int32)\n",
    "        imgs[idx,:,:,:]=img    # 데이터 영역에 이미지 행렬을 복사\n",
    "        labels[idx]=2   # 보 : 2\n",
    "        idx=idx+1\n",
    "        \n",
    "    print(\"학습데이터(x_train)의 이미지 개수는\", idx,\"입니다.\")\n",
    "    return imgs, labels"
   ]
  },
  {
   "cell_type": "code",
   "execution_count": 86,
   "id": "2de68b92",
   "metadata": {},
   "outputs": [
    {
     "name": "stdout",
     "output_type": "stream",
     "text": [
      "학습데이터(x_train)의 이미지 개수는 2100 입니다.\n",
      "x_train shape: (2100, 28, 28, 3)\n",
      "y_train shape: (2100,)\n"
     ]
    }
   ],
   "source": [
    "# 훈련 데이터 및 정규화\n",
    "image_dir_path = r'C:\\Users\\Lenovo\\aiffel\\Aiffel_Quest\\Main03\\rock_scissor_paper'\n",
    "x_train, y_train = load_data(image_dir_path)\n",
    "x_train_norm = x_train / 255.0\n",
    "\n",
    "print(\"x_train shape: {}\".format(x_train.shape))\n",
    "print(\"y_train shape: {}\".format(y_train.shape))\n",
    "\n",
    "## 2차때는 훈련 데이터 샘플이 600개였습니다. \n",
    "# 현재셀에서 코드를 중복해서 쓰다보니 2100으로 출력되어 있습니다."
   ]
  },
  {
   "cell_type": "markdown",
   "id": "41ffdff3",
   "metadata": {},
   "source": [
    "## 3. 신경망 수정 및 모델학습"
   ]
  },
  {
   "cell_type": "code",
   "execution_count": 82,
   "id": "3c9a1367",
   "metadata": {},
   "outputs": [
    {
     "name": "stdout",
     "output_type": "stream",
     "text": [
      "Model: \"sequential_7\"\n",
      "_________________________________________________________________\n",
      " Layer (type)                Output Shape              Param #   \n",
      "=================================================================\n",
      " conv2d_15 (Conv2D)          (None, 26, 26, 32)        896       \n",
      "                                                                 \n",
      " max_pooling2d_15 (MaxPooli  (None, 13, 13, 32)        0         \n",
      " ng2D)                                                           \n",
      "                                                                 \n",
      " conv2d_16 (Conv2D)          (None, 11, 11, 64)        18496     \n",
      "                                                                 \n",
      " max_pooling2d_16 (MaxPooli  (None, 5, 5, 64)          0         \n",
      " ng2D)                                                           \n",
      "                                                                 \n",
      " conv2d_17 (Conv2D)          (None, 3, 3, 128)         73856     \n",
      "                                                                 \n",
      " max_pooling2d_17 (MaxPooli  (None, 1, 1, 128)         0         \n",
      " ng2D)                                                           \n",
      "                                                                 \n",
      " flatten_7 (Flatten)         (None, 128)               0         \n",
      "                                                                 \n",
      " dropout_1 (Dropout)         (None, 128)               0         \n",
      "                                                                 \n",
      " dense_14 (Dense)            (None, 128)               16512     \n",
      "                                                                 \n",
      " dense_15 (Dense)            (None, 3)                 387       \n",
      "                                                                 \n",
      "=================================================================\n",
      "Total params: 110147 (430.26 KB)\n",
      "Trainable params: 110147 (430.26 KB)\n",
      "Non-trainable params: 0 (0.00 Byte)\n",
      "_________________________________________________________________\n"
     ]
    }
   ],
   "source": [
    "import tensorflow as tf\n",
    "from tensorflow import keras\n",
    "import numpy as np\n",
    "\n",
    "model = keras.models.Sequential()\n",
    "model.add(keras.layers.Conv2D(32, (3, 3), activation='relu', input_shape=(28, 28, 3))) \n",
    "model.add(keras.layers.MaxPooling2D((2, 2)))\n",
    "model.add(keras.layers.Conv2D(64, (3, 3), activation='relu'))\n",
    "model.add(keras.layers.MaxPooling2D((2, 2)))\n",
    "model.add(keras.layers.Conv2D(128, (3, 3), activation='relu'))\n",
    "model.add(keras.layers.MaxPooling2D((2, 2)))\n",
    "model.add(keras.layers.Flatten())\n",
    "model.add(keras.layers.Dropout(0.5))  # Dropout 추가\n",
    "model.add(keras.layers.Dense(128, activation='relu'))  \n",
    "model.add(keras.layers.Dense(3, activation='softmax'))\n",
    "\n",
    "model.summary()"
   ]
  },
  {
   "cell_type": "code",
   "execution_count": 72,
   "id": "6134bf91",
   "metadata": {},
   "outputs": [
    {
     "name": "stdout",
     "output_type": "stream",
     "text": [
      "Epoch 1/15\n",
      "45/45 [==============================] - 3s 44ms/step - loss: 0.0045 - accuracy: 0.9993 - val_loss: 10.7718 - val_accuracy: 0.2917\n",
      "Epoch 2/15\n",
      "45/45 [==============================] - 2s 34ms/step - loss: 0.0022 - accuracy: 0.9993 - val_loss: 10.6749 - val_accuracy: 0.3056\n",
      "Epoch 3/15\n",
      "45/45 [==============================] - 2s 34ms/step - loss: 0.0012 - accuracy: 1.0000 - val_loss: 11.1539 - val_accuracy: 0.2972\n",
      "Epoch 4/15\n",
      "45/45 [==============================] - 1s 27ms/step - loss: 0.0026 - accuracy: 0.9993 - val_loss: 10.8116 - val_accuracy: 0.2583\n",
      "Epoch 5/15\n",
      "45/45 [==============================] - 1s 30ms/step - loss: 0.0021 - accuracy: 1.0000 - val_loss: 11.4804 - val_accuracy: 0.3028\n",
      "Epoch 6/15\n",
      "45/45 [==============================] - 1s 29ms/step - loss: 7.4260e-04 - accuracy: 1.0000 - val_loss: 11.5720 - val_accuracy: 0.2944\n",
      "Epoch 7/15\n",
      "45/45 [==============================] - 1s 30ms/step - loss: 0.0013 - accuracy: 1.0000 - val_loss: 11.4884 - val_accuracy: 0.2972\n",
      "Epoch 8/15\n",
      "45/45 [==============================] - 2s 34ms/step - loss: 0.0022 - accuracy: 0.9993 - val_loss: 11.5207 - val_accuracy: 0.2889\n",
      "Epoch 9/15\n",
      "45/45 [==============================] - 1s 28ms/step - loss: 0.0010 - accuracy: 1.0000 - val_loss: 11.7059 - val_accuracy: 0.2861\n",
      "Epoch 10/15\n",
      "45/45 [==============================] - 1s 30ms/step - loss: 9.9391e-04 - accuracy: 1.0000 - val_loss: 11.7191 - val_accuracy: 0.2917\n",
      "Epoch 11/15\n",
      "45/45 [==============================] - 1s 28ms/step - loss: 0.0010 - accuracy: 1.0000 - val_loss: 11.7119 - val_accuracy: 0.2833\n",
      "Epoch 12/15\n",
      "45/45 [==============================] - 1s 29ms/step - loss: 0.0027 - accuracy: 0.9993 - val_loss: 12.1953 - val_accuracy: 0.2806\n",
      "Epoch 13/15\n",
      "45/45 [==============================] - 1s 31ms/step - loss: 0.0018 - accuracy: 1.0000 - val_loss: 11.5888 - val_accuracy: 0.2917\n",
      "Epoch 14/15\n",
      "45/45 [==============================] - 1s 29ms/step - loss: 0.0012 - accuracy: 1.0000 - val_loss: 10.9273 - val_accuracy: 0.2972\n",
      "Epoch 15/15\n",
      "45/45 [==============================] - 1s 29ms/step - loss: 0.0012 - accuracy: 1.0000 - val_loss: 11.9923 - val_accuracy: 0.2667\n"
     ]
    },
    {
     "data": {
      "text/plain": [
       "<keras.src.callbacks.History at 0x1e801e12a10>"
      ]
     },
     "execution_count": 72,
     "metadata": {},
     "output_type": "execute_result"
    }
   ],
   "source": [
    "# 모델학습\n",
    "# SGD로 변경\n",
    "model.compile(optimizer='sgd',\n",
    "             loss='sparse_categorical_crossentropy',\n",
    "             metrics=['accuracy'])\n",
    "\n",
    "model.fit(x_train_norm, y_train, epochs=15, validation_split=0.2)"
   ]
  },
  {
   "cell_type": "markdown",
   "id": "68653452",
   "metadata": {},
   "source": [
    "## 4. 모델 성능 확인"
   ]
  },
  {
   "cell_type": "markdown",
   "id": "77905d40",
   "metadata": {},
   "source": [
    "### - test 데이터"
   ]
  },
  {
   "cell_type": "code",
   "execution_count": 59,
   "id": "34fcb98a",
   "metadata": {},
   "outputs": [
    {
     "name": "stdout",
     "output_type": "stream",
     "text": [
      "100  images to be resized.\n",
      "100  images resized.\n",
      "가위 이미지 resize 완료!\n",
      "100  images to be resized.\n",
      "100  images resized.\n",
      "바위 이미지 resize 완료!\n",
      "100  images to be resized.\n",
      "100  images resized.\n",
      "보 이미지 resize 완료!\n"
     ]
    }
   ],
   "source": [
    "# 사이즈 변경\n",
    "\n",
    "# test 가위 데이터 resize\n",
    "\n",
    "image_dir_path = r'C:\\Users\\Lenovo\\aiffel\\Aiffel_Quest\\Main03\\test\\scissor'\n",
    "resize_images(image_dir_path)\n",
    "\n",
    "print(\"가위 이미지 resize 완료!\")\n",
    "\n",
    "# test 바위 데이터 resize\n",
    "\n",
    "image_dir_path = r'C:\\Users\\Lenovo\\aiffel\\Aiffel_Quest\\Main03\\test\\rock'\n",
    "resize_images(image_dir_path)\n",
    "\n",
    "print(\"바위 이미지 resize 완료!\")\n",
    "\n",
    "# test 보 데이터 resize\n",
    "\n",
    "image_dir_path = r'C:\\Users\\Lenovo\\aiffel\\Aiffel_Quest\\Main03\\test\\paper'\n",
    "resize_images(image_dir_path)\n",
    "\n",
    "print(\"보 이미지 resize 완료!\")"
   ]
  },
  {
   "cell_type": "code",
   "execution_count": 73,
   "id": "a745469f",
   "metadata": {},
   "outputs": [
    {
     "name": "stdout",
     "output_type": "stream",
     "text": [
      "학습데이터(x_train)의 이미지 개수는 300 입니다.\n",
      "x_test shape: (300, 28, 28, 3)\n",
      "y_test shape: (300,)\n"
     ]
    }
   ],
   "source": [
    "# test 데이터 셋\n",
    "\n",
    "image_dir_path = r'C:\\Users\\Lenovo\\aiffel\\Aiffel_Quest\\Main03\\test'\n",
    "(x_test, y_test)=load_data(image_dir_path)\n",
    "x_test_norm = x_test/255.0   # 입력은 0~1 사이의 값으로 정규화\n",
    "\n",
    "print(\"x_test shape: {}\".format(x_test.shape))\n",
    "print(\"y_test shape: {}\".format(y_test.shape))"
   ]
  },
  {
   "cell_type": "code",
   "execution_count": 74,
   "id": "b105fa63",
   "metadata": {},
   "outputs": [
    {
     "name": "stdout",
     "output_type": "stream",
     "text": [
      "10/10 - 0s - loss: 2.9803 - accuracy: 0.4133 - 118ms/epoch - 12ms/step\n",
      "test_loss: 2.9802730083465576\n",
      "test_accuracy: 0.41333332657814026\n"
     ]
    }
   ],
   "source": [
    "# 데이터 성능 확인\n",
    "test_loss, test_accuracy = model.evaluate(x_test_norm,y_test, verbose=2)\n",
    "print(f\"test_loss: {test_loss}\")\n",
    "print(f\"test_accuracy: {test_accuracy}\")"
   ]
  },
  {
   "cell_type": "markdown",
   "id": "00bf088c",
   "metadata": {},
   "source": [
    "# 3차 시도"
   ]
  },
  {
   "cell_type": "markdown",
   "id": "171e26e1",
   "metadata": {},
   "source": [
    "## 1. 모델학습(학습률 변경)"
   ]
  },
  {
   "cell_type": "code",
   "execution_count": 75,
   "id": "5b83bfb4",
   "metadata": {
    "scrolled": true
   },
   "outputs": [
    {
     "name": "stdout",
     "output_type": "stream",
     "text": [
      "Epoch 1/25\n",
      "57/57 [==============================] - 3s 25ms/step - loss: 0.8926 - accuracy: 0.8194\n",
      "Epoch 2/25\n",
      "57/57 [==============================] - 1s 24ms/step - loss: 0.5202 - accuracy: 0.8367\n",
      "Epoch 3/25\n",
      "57/57 [==============================] - 1s 24ms/step - loss: 0.3961 - accuracy: 0.8711\n",
      "Epoch 4/25\n",
      "57/57 [==============================] - 1s 25ms/step - loss: 0.3470 - accuracy: 0.8689\n",
      "Epoch 5/25\n",
      "57/57 [==============================] - 1s 24ms/step - loss: 0.3043 - accuracy: 0.8911\n",
      "Epoch 6/25\n",
      "57/57 [==============================] - 2s 27ms/step - loss: 0.2585 - accuracy: 0.9139\n",
      "Epoch 7/25\n",
      "57/57 [==============================] - 2s 37ms/step - loss: 0.2480 - accuracy: 0.9089\n",
      "Epoch 8/25\n",
      "57/57 [==============================] - 2s 33ms/step - loss: 0.2278 - accuracy: 0.9250\n",
      "Epoch 9/25\n",
      "57/57 [==============================] - 2s 27ms/step - loss: 0.2067 - accuracy: 0.9311\n",
      "Epoch 10/25\n",
      "57/57 [==============================] - 1s 26ms/step - loss: 0.2141 - accuracy: 0.9217\n",
      "Epoch 11/25\n",
      "57/57 [==============================] - 1s 23ms/step - loss: 0.1897 - accuracy: 0.9356\n",
      "Epoch 12/25\n",
      "57/57 [==============================] - 1s 23ms/step - loss: 0.1758 - accuracy: 0.9417\n",
      "Epoch 13/25\n",
      "57/57 [==============================] - 1s 23ms/step - loss: 0.1710 - accuracy: 0.9456\n",
      "Epoch 14/25\n",
      "57/57 [==============================] - 1s 26ms/step - loss: 0.1823 - accuracy: 0.9422\n",
      "Epoch 15/25\n",
      "57/57 [==============================] - 1s 25ms/step - loss: 0.1555 - accuracy: 0.9511\n",
      "Epoch 16/25\n",
      "57/57 [==============================] - 2s 32ms/step - loss: 0.1647 - accuracy: 0.9478\n",
      "Epoch 17/25\n",
      "57/57 [==============================] - 2s 29ms/step - loss: 0.1582 - accuracy: 0.9489\n",
      "Epoch 18/25\n",
      "57/57 [==============================] - 1s 26ms/step - loss: 0.1550 - accuracy: 0.9489\n",
      "Epoch 19/25\n",
      "57/57 [==============================] - 1s 26ms/step - loss: 0.1476 - accuracy: 0.9506\n",
      "Epoch 20/25\n",
      "57/57 [==============================] - 1s 26ms/step - loss: 0.1392 - accuracy: 0.9561\n",
      "Epoch 21/25\n",
      "57/57 [==============================] - 2s 27ms/step - loss: 0.1385 - accuracy: 0.9567\n",
      "Epoch 22/25\n",
      "57/57 [==============================] - 1s 25ms/step - loss: 0.1466 - accuracy: 0.9522\n",
      "Epoch 23/25\n",
      "57/57 [==============================] - 2s 27ms/step - loss: 0.1319 - accuracy: 0.9589\n",
      "Epoch 24/25\n",
      "57/57 [==============================] - 1s 26ms/step - loss: 0.1210 - accuracy: 0.9622\n",
      "Epoch 25/25\n",
      "57/57 [==============================] - 2s 26ms/step - loss: 0.1318 - accuracy: 0.9600\n"
     ]
    },
    {
     "data": {
      "text/plain": [
       "<keras.src.callbacks.History at 0x1e808df54d0>"
      ]
     },
     "execution_count": 75,
     "metadata": {},
     "output_type": "execute_result"
    }
   ],
   "source": [
    "from tensorflow.keras.optimizers import SGD\n",
    "\n",
    "learning_rate = 0.001\n",
    "opt = SGD(learning_rate=learning_rate)\n",
    "\n",
    "model.compile(optimizer=opt,\n",
    "             loss='sparse_categorical_crossentropy',\n",
    "             metrics=['accuracy'])\n",
    "\n",
    "# 모델 학습\n",
    "model.fit(x_train_norm, y_train, epochs=25)"
   ]
  },
  {
   "cell_type": "markdown",
   "id": "6438cf8b",
   "metadata": {},
   "source": [
    "## 2. 모델 성능 확인"
   ]
  },
  {
   "cell_type": "code",
   "execution_count": 76,
   "id": "f2e9c65d",
   "metadata": {},
   "outputs": [
    {
     "name": "stdout",
     "output_type": "stream",
     "text": [
      "10/10 - 0s - loss: 1.9306 - accuracy: 0.3200 - 465ms/epoch - 46ms/step\n",
      "test_loss: 1.9305814504623413\n",
      "test_accuracy: 0.3199999928474426\n"
     ]
    }
   ],
   "source": [
    "# 데이터 성능 확인\n",
    "test_loss, test_accuracy = model.evaluate(x_test_norm,y_test, verbose=2)\n",
    "print(f\"test_loss: {test_loss}\")\n",
    "print(f\"test_accuracy: {test_accuracy}\")"
   ]
  },
  {
   "cell_type": "markdown",
   "id": "6a6002a0",
   "metadata": {},
   "source": [
    "# 4차 시도"
   ]
  },
  {
   "cell_type": "markdown",
   "id": "cf3ec763",
   "metadata": {},
   "source": [
    "## 1. 훈련 데이터 샘플 600개 → 2100개"
   ]
  },
  {
   "cell_type": "code",
   "execution_count": 87,
   "id": "4485fc4d",
   "metadata": {},
   "outputs": [
    {
     "name": "stdout",
     "output_type": "stream",
     "text": [
      "Epoch 1/20\n",
      "66/66 [==============================] - 5s 28ms/step - loss: 1.1009 - accuracy: 0.3519\n",
      "Epoch 2/20\n",
      "66/66 [==============================] - 2s 29ms/step - loss: 1.0515 - accuracy: 0.4367\n",
      "Epoch 3/20\n",
      "66/66 [==============================] - 2s 26ms/step - loss: 0.6296 - accuracy: 0.7429\n",
      "Epoch 4/20\n",
      "66/66 [==============================] - 2s 30ms/step - loss: 0.2657 - accuracy: 0.9052\n",
      "Epoch 5/20\n",
      "66/66 [==============================] - 2s 32ms/step - loss: 0.1585 - accuracy: 0.9481\n",
      "Epoch 6/20\n",
      "66/66 [==============================] - 2s 30ms/step - loss: 0.0918 - accuracy: 0.9733\n",
      "Epoch 7/20\n",
      "66/66 [==============================] - 2s 26ms/step - loss: 0.0789 - accuracy: 0.9743\n",
      "Epoch 8/20\n",
      "66/66 [==============================] - 2s 34ms/step - loss: 0.0515 - accuracy: 0.9852\n",
      "Epoch 9/20\n",
      "66/66 [==============================] - 2s 32ms/step - loss: 0.0393 - accuracy: 0.9871\n",
      "Epoch 10/20\n",
      "66/66 [==============================] - 2s 33ms/step - loss: 0.0787 - accuracy: 0.9767\n",
      "Epoch 11/20\n",
      "66/66 [==============================] - 2s 35ms/step - loss: 0.0271 - accuracy: 0.9924\n",
      "Epoch 12/20\n",
      "66/66 [==============================] - 2s 36ms/step - loss: 0.0301 - accuracy: 0.9929\n",
      "Epoch 13/20\n",
      "66/66 [==============================] - 2s 30ms/step - loss: 0.0158 - accuracy: 0.9962\n",
      "Epoch 14/20\n",
      "66/66 [==============================] - 2s 30ms/step - loss: 0.0080 - accuracy: 0.9990\n",
      "Epoch 15/20\n",
      "66/66 [==============================] - 2s 34ms/step - loss: 0.0078 - accuracy: 0.9981\n",
      "Epoch 16/20\n",
      "66/66 [==============================] - 3s 46ms/step - loss: 0.0137 - accuracy: 0.9948\n",
      "Epoch 17/20\n",
      "66/66 [==============================] - 2s 33ms/step - loss: 0.0178 - accuracy: 0.9952\n",
      "Epoch 18/20\n",
      "66/66 [==============================] - 2s 30ms/step - loss: 0.0098 - accuracy: 0.9981\n",
      "Epoch 19/20\n",
      "66/66 [==============================] - 2s 31ms/step - loss: 0.0099 - accuracy: 0.9976\n",
      "Epoch 20/20\n",
      "66/66 [==============================] - 2s 33ms/step - loss: 0.0137 - accuracy: 0.9967\n"
     ]
    },
    {
     "data": {
      "text/plain": [
       "<keras.src.callbacks.History at 0x1e80790d090>"
      ]
     },
     "execution_count": 87,
     "metadata": {},
     "output_type": "execute_result"
    }
   ],
   "source": [
    "model.compile(optimizer='adam',\n",
    "             loss='sparse_categorical_crossentropy',\n",
    "             metrics=['accuracy'])\n",
    "\n",
    "model.fit(x_train_norm, y_train, epochs=20)"
   ]
  },
  {
   "cell_type": "markdown",
   "id": "60308e94",
   "metadata": {},
   "source": [
    "## 2. 모델 성능 확인"
   ]
  },
  {
   "cell_type": "code",
   "execution_count": 88,
   "id": "9d0298aa",
   "metadata": {},
   "outputs": [
    {
     "name": "stdout",
     "output_type": "stream",
     "text": [
      "10/10 - 1s - loss: 2.1239 - accuracy: 0.5767 - 679ms/epoch - 68ms/step\n",
      "test_loss: 2.123871088027954\n",
      "test_accuracy: 0.5766666531562805\n"
     ]
    }
   ],
   "source": [
    "# 데이터 성능 확인\n",
    "test_loss, test_accuracy = model.evaluate(x_test_norm,y_test, verbose=2)\n",
    "print(f\"test_loss: {test_loss}\")\n",
    "print(f\"test_accuracy: {test_accuracy}\")"
   ]
  },
  {
   "cell_type": "markdown",
   "id": "23ac4a71",
   "metadata": {},
   "source": [
    "# 5차 시도"
   ]
  },
  {
   "cell_type": "markdown",
   "id": "0c2cbd12",
   "metadata": {},
   "source": [
    "## 1. 추가 데이터 사이즈 변경"
   ]
  },
  {
   "cell_type": "code",
   "execution_count": 94,
   "id": "a22c72ec",
   "metadata": {},
   "outputs": [],
   "source": [
    "import os\n",
    "\n",
    "folder_path = r'C:\\Users\\Lenovo\\aiffel\\Aiffel_Quest\\Main03\\reshape\\scissor'\n",
    "\n",
    "os.chdir(folder_path)\n",
    "\n",
    "for i in range(100):\n",
    "    old_name = f'{i}.jpg'  \n",
    "    new_name = f'{i + 900}.jpg' \n",
    "    os.rename(old_name, new_name)  \n",
    "    \n",
    "folder_path = r'C:\\Users\\Lenovo\\aiffel\\Aiffel_Quest\\Main03\\reshape\\rock'\n",
    "\n",
    "os.chdir(folder_path)\n",
    "\n",
    "for i in range(100):\n",
    "    old_name = f'{i}.jpg'  \n",
    "    new_name = f'{i + 900}.jpg'  \n",
    "    os.rename(old_name, new_name)  \n",
    "    \n",
    "folder_path = r'C:\\Users\\Lenovo\\aiffel\\Aiffel_Quest\\Main03\\reshape\\paper'\n",
    "\n",
    "os.chdir(folder_path)\n",
    "\n",
    "for i in range(100):\n",
    "    old_name = f'{i}.jpg'  \n",
    "    new_name = f'{i + 900}.jpg'  \n",
    "    os.rename(old_name, new_name)"
   ]
  },
  {
   "cell_type": "code",
   "execution_count": 95,
   "id": "70e5f09e",
   "metadata": {},
   "outputs": [
    {
     "name": "stdout",
     "output_type": "stream",
     "text": [
      "100  images to be resized.\n",
      "100  images resized.\n",
      "가위 이미지 resize 완료!\n",
      "100  images to be resized.\n",
      "100  images resized.\n",
      "바위 이미지 resize 완료!\n",
      "100  images to be resized.\n",
      "100  images resized.\n",
      "보 이미지 resize 완료!\n"
     ]
    }
   ],
   "source": [
    "# 추가 가위 데이터 resize\n",
    "\n",
    "image_dir_path = r'C:\\Users\\Lenovo\\aiffel\\Aiffel_Quest\\Main03\\reshape\\scissor'\n",
    "resize_images(image_dir_path)\n",
    "\n",
    "print(\"가위 이미지 resize 완료!\")\n",
    "\n",
    "# 추가 바위 데이터 resize\n",
    "\n",
    "image_dir_path = r'C:\\Users\\Lenovo\\aiffel\\Aiffel_Quest\\Main03\\reshape\\rock'\n",
    "resize_images(image_dir_path)\n",
    "\n",
    "print(\"바위 이미지 resize 완료!\")\n",
    "\n",
    "# 추가 보 데이터 resize\n",
    "\n",
    "image_dir_path = r'C:\\Users\\Lenovo\\aiffel\\Aiffel_Quest\\Main03\\reshape\\paper'\n",
    "resize_images(image_dir_path)\n",
    "\n",
    "print(\"보 이미지 resize 완료!\")"
   ]
  },
  {
   "cell_type": "markdown",
   "id": "17cd6b44",
   "metadata": {},
   "source": [
    "## 2. 데이터 샘플 수 변경 2100 → 12000개"
   ]
  },
  {
   "cell_type": "code",
   "execution_count": 98,
   "id": "823861e4",
   "metadata": {},
   "outputs": [],
   "source": [
    "import numpy as np\n",
    "\n",
    "def load_data(img_path, number_of_data=12000):  \n",
    "    # 가위 : 0, 바위 : 1, 보 : 2\n",
    "    img_size=28\n",
    "    color=3\n",
    "    #이미지 데이터와 라벨(가위 : 0, 바위 : 1, 보 : 2) 데이터를 담을 행렬(matrix) 영역을 생성.\n",
    "    imgs=np.zeros(number_of_data*img_size*img_size*color,dtype=np.int32).reshape(number_of_data,img_size,img_size,color)\n",
    "    labels=np.zeros(number_of_data,dtype=np.int32)\n",
    "\n",
    "    idx=0\n",
    "    for file in glob.iglob(img_path+'/scissor/*.jpg'):\n",
    "        img = np.array(Image.open(file),dtype=np.int32)\n",
    "        imgs[idx,:,:,:]=img    # 데이터 영역에 이미지 행렬을 복사\n",
    "        labels[idx]=0   # 가위 : 0\n",
    "        idx=idx+1\n",
    "\n",
    "    for file in glob.iglob(img_path+'/rock/*.jpg'):\n",
    "        img = np.array(Image.open(file),dtype=np.int32)\n",
    "        imgs[idx,:,:,:]=img    # 데이터 영역에 이미지 행렬을 복사\n",
    "        labels[idx]=1   # 바위 : 1\n",
    "        idx=idx+1  \n",
    "    \n",
    "    for file in glob.iglob(img_path+'/paper/*.jpg'):\n",
    "        img = np.array(Image.open(file),dtype=np.int32)\n",
    "        imgs[idx,:,:,:]=img    # 데이터 영역에 이미지 행렬을 복사\n",
    "        labels[idx]=2   # 보 : 2\n",
    "        idx=idx+1\n",
    "        \n",
    "    print(\"학습데이터(x_train)의 이미지 개수는\", idx,\"입니다.\")\n",
    "    return imgs, labels"
   ]
  },
  {
   "cell_type": "code",
   "execution_count": 99,
   "id": "b4eeae63",
   "metadata": {},
   "outputs": [
    {
     "name": "stdout",
     "output_type": "stream",
     "text": [
      "학습데이터(x_train)의 이미지 개수는 12000 입니다.\n",
      "x_train shape: (12000, 28, 28, 3)\n",
      "y_train shape: (12000,)\n"
     ]
    }
   ],
   "source": [
    "image_dir_path = r'C:\\Users\\Lenovo\\aiffel\\Aiffel_Quest\\Main03\\rock_scissor_paper'\n",
    "(x_train, y_train)=load_data(image_dir_path)\n",
    "x_train_norm = x_train/255.0   # 입력은 0~1 사이의 값으로 정규화\n",
    "\n",
    "print(\"x_train shape: {}\".format(x_train.shape))\n",
    "print(\"y_train shape: {}\".format(y_train.shape))"
   ]
  },
  {
   "cell_type": "markdown",
   "id": "36f936ea",
   "metadata": {},
   "source": [
    "## 3. 모델 학습 및 성능확인"
   ]
  },
  {
   "cell_type": "code",
   "execution_count": 104,
   "id": "bc622207",
   "metadata": {},
   "outputs": [
    {
     "name": "stdout",
     "output_type": "stream",
     "text": [
      "Epoch 1/20\n",
      "375/375 [==============================] - 11s 22ms/step - loss: 0.0037 - accuracy: 0.9988\n",
      "Epoch 2/20\n",
      "375/375 [==============================] - 8s 21ms/step - loss: 0.0083 - accuracy: 0.9982\n",
      "Epoch 3/20\n",
      "375/375 [==============================] - 9s 25ms/step - loss: 0.0031 - accuracy: 0.9990\n",
      "Epoch 4/20\n",
      "375/375 [==============================] - 10s 26ms/step - loss: 0.0079 - accuracy: 0.9982\n",
      "Epoch 5/20\n",
      "375/375 [==============================] - 9s 25ms/step - loss: 0.0082 - accuracy: 0.9979\n",
      "Epoch 6/20\n",
      "375/375 [==============================] - 8s 22ms/step - loss: 0.0039 - accuracy: 0.9983\n",
      "Epoch 7/20\n",
      "375/375 [==============================] - 10s 28ms/step - loss: 7.1162e-04 - accuracy: 0.9997\n",
      "Epoch 8/20\n",
      "375/375 [==============================] - 10s 27ms/step - loss: 1.6607e-04 - accuracy: 1.0000\n",
      "Epoch 9/20\n",
      "375/375 [==============================] - 10s 26ms/step - loss: 6.6004e-05 - accuracy: 1.0000\n",
      "Epoch 10/20\n",
      "375/375 [==============================] - 14s 37ms/step - loss: 6.3620e-05 - accuracy: 1.0000\n",
      "Epoch 11/20\n",
      "375/375 [==============================] - 10s 27ms/step - loss: 0.0149 - accuracy: 0.9971\n",
      "Epoch 12/20\n",
      "375/375 [==============================] - 11s 30ms/step - loss: 0.0034 - accuracy: 0.9994\n",
      "Epoch 13/20\n",
      "375/375 [==============================] - 9s 25ms/step - loss: 0.0033 - accuracy: 0.9987\n",
      "Epoch 14/20\n",
      "375/375 [==============================] - 10s 27ms/step - loss: 0.0051 - accuracy: 0.9987\n",
      "Epoch 15/20\n",
      "375/375 [==============================] - 11s 29ms/step - loss: 0.0021 - accuracy: 0.9993\n",
      "Epoch 16/20\n",
      "375/375 [==============================] - 11s 30ms/step - loss: 0.0018 - accuracy: 0.9994\n",
      "Epoch 17/20\n",
      "375/375 [==============================] - 10s 26ms/step - loss: 7.4409e-04 - accuracy: 0.9998\n",
      "Epoch 18/20\n",
      "375/375 [==============================] - 10s 26ms/step - loss: 1.8956e-04 - accuracy: 0.9999\n",
      "Epoch 19/20\n",
      "375/375 [==============================] - 11s 29ms/step - loss: 0.0112 - accuracy: 0.9969\n",
      "Epoch 20/20\n",
      "375/375 [==============================] - 9s 25ms/step - loss: 7.8993e-04 - accuracy: 0.9998\n"
     ]
    },
    {
     "data": {
      "text/plain": [
       "<keras.src.callbacks.History at 0x1e807a2cf50>"
      ]
     },
     "execution_count": 104,
     "metadata": {},
     "output_type": "execute_result"
    }
   ],
   "source": [
    "# 학습률 0.001 변경\n",
    "\n",
    "learning_rate = 0.001\n",
    "opt = Adam(learning_rate=learning_rate)\n",
    "\n",
    "model.compile(optimizer='adam',\n",
    "             loss='sparse_categorical_crossentropy',\n",
    "             metrics=['accuracy'])\n",
    "\n",
    "model.fit(x_train_norm, y_train, epochs=20)"
   ]
  },
  {
   "cell_type": "code",
   "execution_count": 105,
   "id": "ee1ebfa8",
   "metadata": {},
   "outputs": [
    {
     "name": "stdout",
     "output_type": "stream",
     "text": [
      "10/10 - 0s - loss: 3.7448 - accuracy: 0.6067 - 383ms/epoch - 38ms/step\n",
      "test_loss: 3.744760036468506\n",
      "test_accuracy: 0.6066666841506958\n"
     ]
    }
   ],
   "source": [
    "# 데이터 성능 확인\n",
    "test_loss, test_accuracy = model.evaluate(x_test_norm,y_test, verbose=2)\n",
    "print(f\"test_loss: {test_loss}\")\n",
    "print(f\"test_accuracy: {test_accuracy}\")"
   ]
  },
  {
   "cell_type": "code",
   "execution_count": null,
   "id": "99cefb40",
   "metadata": {},
   "outputs": [],
   "source": []
  },
  {
   "cell_type": "markdown",
   "id": "635492fc",
   "metadata": {},
   "source": [
    "# 6차 시도"
   ]
  },
  {
   "cell_type": "markdown",
   "id": "b24e6991",
   "metadata": {},
   "source": [
    "## 1. 학습률 및 에폭 변경"
   ]
  },
  {
   "cell_type": "code",
   "execution_count": 107,
   "id": "6d862112",
   "metadata": {},
   "outputs": [
    {
     "name": "stdout",
     "output_type": "stream",
     "text": [
      "Epoch 1/25\n",
      "375/375 [==============================] - 12s 28ms/step - loss: 0.0148 - accuracy: 0.9963\n",
      "Epoch 2/25\n",
      "375/375 [==============================] - 10s 26ms/step - loss: 0.0133 - accuracy: 0.9977\n",
      "Epoch 3/25\n",
      "375/375 [==============================] - 9s 24ms/step - loss: 0.0018 - accuracy: 0.9996\n",
      "Epoch 4/25\n",
      "375/375 [==============================] - 9s 24ms/step - loss: 1.7016e-04 - accuracy: 1.0000\n",
      "Epoch 5/25\n",
      "375/375 [==============================] - 8s 23ms/step - loss: 1.0221e-04 - accuracy: 1.0000\n",
      "Epoch 6/25\n",
      "375/375 [==============================] - 9s 24ms/step - loss: 2.2596e-05 - accuracy: 1.0000\n",
      "Epoch 7/25\n",
      "375/375 [==============================] - 9s 23ms/step - loss: 3.6727e-05 - accuracy: 1.0000\n",
      "Epoch 8/25\n",
      "375/375 [==============================] - 9s 24ms/step - loss: 4.1815e-05 - accuracy: 1.0000\n",
      "Epoch 9/25\n",
      "375/375 [==============================] - 10s 26ms/step - loss: 2.3346e-05 - accuracy: 1.0000\n",
      "Epoch 10/25\n",
      "375/375 [==============================] - 10s 26ms/step - loss: 8.0601e-06 - accuracy: 1.0000\n",
      "Epoch 11/25\n",
      "375/375 [==============================] - 10s 25ms/step - loss: 0.0377 - accuracy: 0.9890\n",
      "Epoch 12/25\n",
      "375/375 [==============================] - 10s 28ms/step - loss: 0.0098 - accuracy: 0.9973\n",
      "Epoch 13/25\n",
      "375/375 [==============================] - 10s 27ms/step - loss: 0.0175 - accuracy: 0.9953\n",
      "Epoch 14/25\n",
      "375/375 [==============================] - 10s 27ms/step - loss: 0.0042 - accuracy: 0.9989\n",
      "Epoch 15/25\n",
      "375/375 [==============================] - 8s 22ms/step - loss: 0.0010 - accuracy: 0.9998\n",
      "Epoch 16/25\n",
      "375/375 [==============================] - 9s 23ms/step - loss: 0.0027 - accuracy: 0.9991\n",
      "Epoch 17/25\n",
      "375/375 [==============================] - 10s 26ms/step - loss: 0.0357 - accuracy: 0.9927\n",
      "Epoch 18/25\n",
      "375/375 [==============================] - 10s 26ms/step - loss: 0.0024 - accuracy: 0.9990\n",
      "Epoch 19/25\n",
      "375/375 [==============================] - 11s 28ms/step - loss: 0.0031 - accuracy: 0.9992\n",
      "Epoch 20/25\n",
      "375/375 [==============================] - 12s 31ms/step - loss: 0.0130 - accuracy: 0.9965\n",
      "Epoch 21/25\n",
      "375/375 [==============================] - 9s 25ms/step - loss: 0.0059 - accuracy: 0.9983\n",
      "Epoch 22/25\n",
      "375/375 [==============================] - 10s 26ms/step - loss: 0.0142 - accuracy: 0.9969\n",
      "Epoch 23/25\n",
      "375/375 [==============================] - 10s 27ms/step - loss: 0.0055 - accuracy: 0.9988\n",
      "Epoch 24/25\n",
      "375/375 [==============================] - 9s 25ms/step - loss: 0.0020 - accuracy: 0.9994\n",
      "Epoch 25/25\n",
      "375/375 [==============================] - 10s 28ms/step - loss: 0.0020 - accuracy: 0.9998\n",
      "10/10 - 1s - loss: 4.1506 - accuracy: 0.6100 - 614ms/epoch - 61ms/step\n",
      "test_loss: 4.150611877441406\n",
      "test_accuracy: 0.6100000143051147\n"
     ]
    }
   ],
   "source": [
    "learning_rate = 0.002  # 학습률 조정\n",
    "opt = Adam(learning_rate=learning_rate)\n",
    "\n",
    "model.compile(optimizer=opt,  # optimizer 변경\n",
    "             loss='sparse_categorical_crossentropy',\n",
    "             metrics=['accuracy'])\n",
    "\n",
    "model.fit(x_train_norm, y_train, epochs=25)  # 에폭 수 증가\n",
    "\n",
    "# 데이터 성능 확인\n",
    "test_loss, test_accuracy = model.evaluate(x_test_norm, y_test, verbose=2)\n",
    "print(f\"test_loss: {test_loss}\")\n",
    "print(f\"test_accuracy: {test_accuracy}\")"
   ]
  },
  {
   "cell_type": "code",
   "execution_count": null,
   "id": "c4ba445b",
   "metadata": {},
   "outputs": [],
   "source": []
  },
  {
   "cell_type": "markdown",
   "id": "3316e447",
   "metadata": {},
   "source": [
    "# 7차 시도"
   ]
  },
  {
   "cell_type": "code",
   "execution_count": 114,
   "id": "9424e046",
   "metadata": {},
   "outputs": [],
   "source": [
    "# 신경망\n",
    "\n",
    "from keras.layers import Conv2D, MaxPooling2D, Flatten, Dense, Dropout\n",
    "from keras.models import Sequential\n",
    "\n",
    "model = Sequential()\n",
    "\n",
    "model.add(Conv2D(32, (3, 3), activation='relu', input_shape=(28, 28, 3)))\n",
    "model.add(MaxPooling2D((2, 2)))\n",
    "\n",
    "model.add(Conv2D(64, (3, 3), activation='relu'))\n",
    "model.add(MaxPooling2D((2, 2)))\n",
    "\n",
    "model.add(Conv2D(128, (3, 3), activation='relu'))\n",
    "model.add(MaxPooling2D((2, 2)))\n",
    "\n",
    "model.add(Flatten())\n",
    "model.add(Dropout(0.5))\n",
    "model.add(Dense(256, activation='relu'))  \n",
    "model.add(Dense(128, activation='relu'))  \n",
    "model.add(Dense(3, activation='softmax'))"
   ]
  },
  {
   "cell_type": "code",
   "execution_count": 115,
   "id": "b688451e",
   "metadata": {},
   "outputs": [
    {
     "name": "stdout",
     "output_type": "stream",
     "text": [
      "Epoch 1/25\n",
      "375/375 [==============================] - 13s 28ms/step - loss: 0.6031 - accuracy: 0.6955\n",
      "Epoch 2/25\n",
      "375/375 [==============================] - 11s 30ms/step - loss: 0.0624 - accuracy: 0.9783\n",
      "Epoch 3/25\n",
      "375/375 [==============================] - 11s 29ms/step - loss: 0.0356 - accuracy: 0.9887\n",
      "Epoch 4/25\n",
      "375/375 [==============================] - 10s 26ms/step - loss: 0.0321 - accuracy: 0.9898\n",
      "Epoch 5/25\n",
      "375/375 [==============================] - 14s 38ms/step - loss: 0.0121 - accuracy: 0.9964\n",
      "Epoch 6/25\n",
      "375/375 [==============================] - 11s 30ms/step - loss: 0.0091 - accuracy: 0.9977\n",
      "Epoch 7/25\n",
      "375/375 [==============================] - 10s 28ms/step - loss: 0.0172 - accuracy: 0.9959\n",
      "Epoch 8/25\n",
      "375/375 [==============================] - 9s 23ms/step - loss: 0.0177 - accuracy: 0.9943\n",
      "Epoch 9/25\n",
      "375/375 [==============================] - 9s 23ms/step - loss: 0.0106 - accuracy: 0.9966\n",
      "Epoch 10/25\n",
      "375/375 [==============================] - 10s 28ms/step - loss: 0.0093 - accuracy: 0.9973\n",
      "Epoch 11/25\n",
      "375/375 [==============================] - 12s 31ms/step - loss: 0.0132 - accuracy: 0.9960\n",
      "Epoch 12/25\n",
      "375/375 [==============================] - 9s 23ms/step - loss: 0.0048 - accuracy: 0.9983\n",
      "Epoch 13/25\n",
      "375/375 [==============================] - 9s 23ms/step - loss: 0.0061 - accuracy: 0.9984\n",
      "Epoch 14/25\n",
      "375/375 [==============================] - 10s 27ms/step - loss: 4.6666e-04 - accuracy: 0.9998\n",
      "Epoch 15/25\n",
      "375/375 [==============================] - 10s 28ms/step - loss: 0.0186 - accuracy: 0.9947\n",
      "Epoch 16/25\n",
      "375/375 [==============================] - 10s 26ms/step - loss: 0.0134 - accuracy: 0.9963\n",
      "Epoch 17/25\n",
      "375/375 [==============================] - 10s 27ms/step - loss: 0.0060 - accuracy: 0.9984\n",
      "Epoch 18/25\n",
      "375/375 [==============================] - 10s 27ms/step - loss: 0.0017 - accuracy: 0.9996\n",
      "Epoch 19/25\n",
      "375/375 [==============================] - 10s 26ms/step - loss: 0.0114 - accuracy: 0.9960\n",
      "Epoch 20/25\n",
      "375/375 [==============================] - 10s 28ms/step - loss: 0.0061 - accuracy: 0.9982\n",
      "Epoch 21/25\n",
      "375/375 [==============================] - 9s 25ms/step - loss: 0.0110 - accuracy: 0.9962\n",
      "Epoch 22/25\n",
      "375/375 [==============================] - 9s 24ms/step - loss: 0.0026 - accuracy: 0.9995\n",
      "Epoch 23/25\n",
      "375/375 [==============================] - 9s 24ms/step - loss: 0.0037 - accuracy: 0.9992\n",
      "Epoch 24/25\n",
      "375/375 [==============================] - 9s 25ms/step - loss: 0.0012 - accuracy: 0.9998\n",
      "Epoch 25/25\n",
      "375/375 [==============================] - 9s 24ms/step - loss: 0.0103 - accuracy: 0.9970\n",
      "10/10 - 0s - loss: 5.7193 - accuracy: 0.6267 - 390ms/epoch - 39ms/step\n",
      "test_loss: 5.719297885894775\n",
      "test_accuracy: 0.6266666650772095\n"
     ]
    }
   ],
   "source": [
    "learning_rate = 0.001  # 학습률 조정\n",
    "opt = Adam(learning_rate=learning_rate)\n",
    "\n",
    "model.compile(optimizer=opt,  # optimizer 변경\n",
    "             loss='sparse_categorical_crossentropy',\n",
    "             metrics=['accuracy'])\n",
    "\n",
    "model.fit(x_train_norm, y_train, epochs=25)  \n",
    "\n",
    "test_loss, test_accuracy = model.evaluate(x_test_norm, y_test, verbose=2)\n",
    "print(f\"test_loss: {test_loss}\")\n",
    "print(f\"test_accuracy: {test_accuracy}\")"
   ]
  },
  {
   "cell_type": "code",
   "execution_count": null,
   "id": "9bff8beb",
   "metadata": {},
   "outputs": [],
   "source": []
  },
  {
   "cell_type": "markdown",
   "id": "825c0665",
   "metadata": {},
   "source": [
    "# 회고"
   ]
  },
  {
   "cell_type": "markdown",
   "id": "1494ba6d",
   "metadata": {},
   "source": [
    "- 성능이 좋지 못한 결과가 계속 나왔습니다,\n",
    "- 데이터 샘플이 부족해서 그런지, 적합한 하이퍼파리미터를 찾지 못해서 그런지 확인하지 못했습니다.\n",
    "- 전체적으로 데이터 샘플 구성, 하이퍼파라미터 탐색에 대한 계획을 세우고 신경망과 모델을 구성해야 겠다는 생각을 했습니다."
   ]
  },
  {
   "cell_type": "code",
   "execution_count": null,
   "id": "c8f251da",
   "metadata": {},
   "outputs": [],
   "source": []
  }
 ],
 "metadata": {
  "kernelspec": {
   "display_name": "Python 3 (ipykernel)",
   "language": "python",
   "name": "python3"
  },
  "language_info": {
   "codemirror_mode": {
    "name": "ipython",
    "version": 3
   },
   "file_extension": ".py",
   "mimetype": "text/x-python",
   "name": "python",
   "nbconvert_exporter": "python",
   "pygments_lexer": "ipython3",
   "version": "3.11.5"
  },
  "toc": {
   "base_numbering": 1,
   "nav_menu": {},
   "number_sections": false,
   "sideBar": true,
   "skip_h1_title": false,
   "title_cell": "Table of Contents",
   "title_sidebar": "Contents",
   "toc_cell": false,
   "toc_position": {
    "height": "calc(100% - 180px)",
    "left": "10px",
    "top": "150px",
    "width": "277.818px"
   },
   "toc_section_display": true,
   "toc_window_display": false
  }
 },
 "nbformat": 4,
 "nbformat_minor": 5
}
