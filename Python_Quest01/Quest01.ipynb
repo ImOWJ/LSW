{
  "nbformat": 4,
  "nbformat_minor": 0,
  "metadata": {
    "colab": {
      "provenance": [],
      "include_colab_link": true
    },
    "kernelspec": {
      "name": "python3",
      "display_name": "Python 3"
    },
    "language_info": {
      "name": "python"
    }
  },
  "cells": [
    {
      "cell_type": "markdown",
      "metadata": {
        "id": "view-in-github",
        "colab_type": "text"
      },
      "source": [
        "<a href=\"https://colab.research.google.com/github/K-Bbang/AIFFEL_Online_Quest/blob/main/Quest01/Quest01.ipynb\" target=\"_parent\"><img src=\"https://colab.research.google.com/assets/colab-badge.svg\" alt=\"Open In Colab\"/></a>"
      ]
    },
    {
      "cell_type": "code",
      "source": [
        "name = input('이름을 입력하세요:')\n",
        "rename = name[::-1]\n",
        "if rename == name:\n",
        "    print('뒤집힌 단어는:', rename)\n",
        "    print('입력된 단어는 회문입니다.')\n",
        "else:\n",
        "    print('입력된 단어는 회문이 아닙니다.')"
      ],
      "metadata": {
        "id": "ODSAVInrnPzL",
        "outputId": "ee6b2772-d604-457b-f9dc-3e50b43cd0ee",
        "colab": {
          "base_uri": "https://localhost:8080/"
        }
      },
      "execution_count": 42,
      "outputs": [
        {
          "output_type": "stream",
          "name": "stdout",
          "text": [
            "이름을 입력하세요:우영우\n",
            "뒤집힌 단어는: 우영우\n",
            "입력된 단어는 회문입니다.\n"
          ]
        }
      ]
    }
  ]
}
