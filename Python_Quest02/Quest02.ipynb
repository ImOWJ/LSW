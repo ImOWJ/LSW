{
  "nbformat": 4,
  "nbformat_minor": 0,
  "metadata": {
    "colab": {
      "provenance": [],
      "authorship_tag": "ABX9TyOM8F8n08NxbZOyRFywstHd",
      "include_colab_link": true
    },
    "kernelspec": {
      "name": "python3",
      "display_name": "Python 3"
    },
    "language_info": {
      "name": "python"
    }
  },
  "cells": [
    {
      "cell_type": "markdown",
      "metadata": {
        "id": "view-in-github",
        "colab_type": "text"
      },
      "source": [
        "<a href=\"https://colab.research.google.com/github/K-Bbang/AIFFEL_Online_Quest/blob/main/Quest02/Quest02.ipynb\" target=\"_parent\"><img src=\"https://colab.research.google.com/assets/colab-badge.svg\" alt=\"Open In Colab\"/></a>"
      ]
    },
    {
      "cell_type": "code",
      "execution_count": 1,
      "metadata": {
        "colab": {
          "base_uri": "https://localhost:8080/"
        },
        "id": "gyVy6QQkHqYA",
        "outputId": "96184256-2da6-41c6-f2b8-436fb41849ea"
      },
      "outputs": [
        {
          "output_type": "stream",
          "name": "stdout",
          "text": [
            "Using Comprehension:\n",
            "Nemo is swimming at 3 m/s\n",
            "Dory is swimming at 5 m/s\n"
          ]
        }
      ],
      "source": [
        "# 컴프리헨션\n",
        "fish_list = [{\"이름\": \"Nemo\", \"speed\": 3}, {\"이름\": \"Dory\", \"speed\": 5}]\n",
        "\n",
        "def fish_movement_com(fish_list):\n",
        "    fish_movements = [(fish[\"이름\"], fish[\"speed\"]) for fish in fish_list]\n",
        "    for name, speed in fish_movements:\n",
        "        print(f\"{name} is swimming at {speed} m/s\")\n",
        "\n",
        "print(\"Using Comprehension:\")\n",
        "fish_movement_com(fish_list)"
      ]
    },
    {
      "cell_type": "code",
      "source": [
        "#제너레이터 작업중\n",
        "fish_list = [{\"이름\": \"Nemo\", \"speed\": 3}, {\"이름\": \"Dory\", \"speed\": 5}]\n",
        "\n",
        "def fish_movement_gen(fish_list):\n",
        "  for fish in fish_list:\n",
        "    yield(fish[\"이름\"], fish[\"speed\"])\n",
        "\n",
        "move_gen = fish_movement_gen(fish_list)\n",
        "\n",
        "print(next(move_gen))\n",
        "print(next(move_gen))"
      ],
      "metadata": {
        "colab": {
          "base_uri": "https://localhost:8080/"
        },
        "id": "FaRuexVMHr70",
        "outputId": "371016b5-592d-4045-dc4d-9eff15efb7b6"
      },
      "execution_count": 2,
      "outputs": [
        {
          "output_type": "stream",
          "name": "stdout",
          "text": [
            "('Nemo', 3)\n",
            "('Dory', 5)\n"
          ]
        }
      ]
    },
    {
      "cell_type": "code",
      "source": [
        "#제너레이터 결과\n",
        "\n",
        "def fish_movement_gen(fish_list):\n",
        "  for fish in fish_list:\n",
        "    yield(fish[\"이름\"], 'is swimming at', fish[\"speed\"], 'm/s')\n",
        "\n",
        "move_gen = fish_movement_gen(fish_list) # 반복 및 시간 간격 추가를 못했음. 어떻게 해야 할지?\n",
        "\n",
        "print(\"Using Generator:\")\n",
        "for i in move_gen:\n",
        "    print(i)"
      ],
      "metadata": {
        "colab": {
          "base_uri": "https://localhost:8080/"
        },
        "id": "8qx06XdRHt6V",
        "outputId": "7acb137d-9e78-4dab-9588-2f0a5f12fd3b"
      },
      "execution_count": 3,
      "outputs": [
        {
          "output_type": "stream",
          "name": "stdout",
          "text": [
            "Using Generator:\n",
            "('Nemo', 'is swimming at', 3, 'm/s')\n",
            "('Dory', 'is swimming at', 5, 'm/s')\n"
          ]
        }
      ]
    },
    {
      "cell_type": "markdown",
      "source": [
        "# 회고\n",
        "정말 어려웠다. 강의 때는 컴프리헨션이랑 제너레이터 개념을 다 이해했다고 생각했는데, 문제에 적용하려니까 쉽게 해결되지 않았다. 공부를 더 열심히 해야 한다는 생각, 실력이 향상될 수 있을까 하는 자괴감이..."
      ],
      "metadata": {
        "id": "dPn76oukHv1p"
      }
    }
  ]
}
